{
  "nbformat": 4,
  "nbformat_minor": 0,
  "metadata": {
    "colab": {
      "provenance": [],
      "authorship_tag": "ABX9TyPVsJvxsyxWcd9XeWGrKjDE",
      "include_colab_link": true
    },
    "kernelspec": {
      "name": "python3",
      "display_name": "Python 3"
    },
    "language_info": {
      "name": "python"
    },
    "accelerator": "GPU",
    "gpuClass": "standard"
  },
  "cells": [
    {
      "cell_type": "markdown",
      "metadata": {
        "id": "view-in-github",
        "colab_type": "text"
      },
      "source": [
        "<a href=\"https://colab.research.google.com/github/nnilayy/Yolact-Edge/blob/main/Yolact_Edge.ipynb\" target=\"_parent\"><img src=\"https://colab.research.google.com/assets/colab-badge.svg\" alt=\"Open In Colab\"/></a>"
      ]
    },
    {
      "cell_type": "markdown",
      "source": [
        "##CLONING THE YOLACT REPO"
      ],
      "metadata": {
        "id": "TVf_ajfjTuhG"
      }
    },
    {
      "cell_type": "code",
      "execution_count": null,
      "metadata": {
        "id": "oXrGBciORtr7"
      },
      "outputs": [],
      "source": [
        "%cd /content\n",
        "!git clone https://github.com/haotian-liu/yolact_edge.git\n",
        "!git clone https://github.com/chentinghao/download_google_drive.git\n",
        "\n",
        "%cd yolact_edge\n",
        "!mkdir -p weights\n",
        "\n",
        "!python ../download_google_drive/download_gdrive.py 1EAzO-vRDZ2hupUJ4JFSUi40lAZ5Jo-Bp /content/weights/yolact_edge_54_800000.pth"
      ]
    },
    {
      "cell_type": "code",
      "source": [
        "!python3 -m pip install gitpython"
      ],
      "metadata": {
        "id": "RQnW6Ufg9RzK"
      },
      "execution_count": null,
      "outputs": []
    },
    {
      "cell_type": "markdown",
      "source": [
        "##MOUNTING OUR GOOGLE DRIVE"
      ],
      "metadata": {
        "id": "alEZRQKrBuHI"
      }
    },
    {
      "cell_type": "code",
      "source": [
        "from google.colab import drive\n",
        "drive.mount('/content/drive')\n",
        "!ls /content/drive/MyDrive"
      ],
      "metadata": {
        "id": "h14q4cU3Q0gK"
      },
      "execution_count": null,
      "outputs": []
    },
    {
      "cell_type": "markdown",
      "source": [
        "##MOVING MODEL WEIGHTS FROM RANDOM DRIVE TO COLAB"
      ],
      "metadata": {
        "id": "tL4DeJixA5oa"
      }
    },
    {
      "cell_type": "code",
      "source": [
        "# Create the Folder Structure in Colab to store weights\n",
        "!mkdir /content/weights\n",
        "\n",
        "# Provide the model_name, file_id, and colab path to store the model weights\n",
        "model_name = \"yolact_edge_54_800000\"\n",
        "file_id = \"1EAzO-vRDZ2hupUJ4JFSUi40lAZ5Jo-Bp\"\n",
        "colab_path = \"/content/weights\"\n",
        "\n",
        "# Download the model weights\n",
        "!gdown \"{file_id}&confirm=t\" --output='{colab_path}/{model_name}.pth'"
      ],
      "metadata": {
        "id": "PusZmvYYAm_L"
      },
      "execution_count": null,
      "outputs": []
    },
    {
      "cell_type": "markdown",
      "source": [
        "##MOVING MODEL WEIGHTS FROM DRIVE TO COLAB"
      ],
      "metadata": {
        "id": "9MjpiiTWAn-n"
      }
    },
    {
      "cell_type": "code",
      "source": [
        "# Create the Folder Structure in Colab to store weights\n",
        "!mkdir /content/yolact\n",
        "!mkdir /content/yolact/model_weights\n",
        "\n",
        "# Provide the drive path and the colab_path\n",
        "drive_path = '/content/drive/MyDrive/yolact_plus_resnet50_54_800000.pth'\n",
        "colab_path = '/content/yolact/model_weights/yolact_plus_resnet50_54_800000.pth'\n",
        "\n",
        "# Move the weights from drive to colab\n",
        "!cp \"{drive_path}\" \"{colab_path}\""
      ],
      "metadata": {
        "id": "zfqxbW2MAm_A"
      },
      "execution_count": null,
      "outputs": []
    },
    {
      "cell_type": "markdown",
      "source": [
        "##CUSTOM DATASET\n",
        "* Drop the file with your custom dataset in the /content by dragging and dropping as a zip folder.\n",
        "*Unzip the zip folder as follows:\n",
        "```\n",
        "!unzip -q /content/custom_dataset.zip -d /content/\n",
        "```\n",
        "*Click on the following config file link: /content/yolact_edge/yolact_edge/data/config.py.\n",
        "*Under this file, go to \"DATASETS\" and add the following. \n",
        "```\n",
        "my_custom_dataset = dataset_base.copy({\n",
        "    'name': 'My Dataset',\n",
        "\n",
        "    'train_images': 'path_to_training_images',\n",
        "    'train_info':   'path_to_training_annotation',\n",
        "\n",
        "    'valid_images': 'path_to_validation_images',\n",
        "    'valid_info':   'path_to_validation_annotation',\n",
        "\n",
        "    'has_gt': True,\n",
        "    'class_names': ('my_class_id_1', 'my_class_id_2', 'my_class_id_3', ...)\n",
        "})\n",
        "```\n",
        "*In the above, add the path to your train and test dataset and annotations files, from the custom dataset you unziped. \n",
        "*Then under the YOLACT v1.0 CONFIGS section and change the dataset to custom_dataset\n",
        "\n"
      ],
      "metadata": {
        "id": "VZNyCaB8dYnl"
      }
    },
    {
      "cell_type": "code",
      "source": [
        "!unzip -q /content/main_images.zip -d /content/"
      ],
      "metadata": {
        "id": "1H0oFH4fmp6_"
      },
      "execution_count": null,
      "outputs": []
    },
    {
      "cell_type": "markdown",
      "source": [
        "##TRAINING THE MODEL\n",
        "\n",
        "* If you encounter the error: *RuntimeError: Expected a ‘cuda’ device type for generator but found ‘cpu’*,\n",
        "*Click the following link for the test.py file: /content/yolact/train.py, and go to line 251 and change shuffle=True to shuffle=False\n",
        "\n",
        "\n",
        "* To change the number of iterations, check under CONFIG DEFAULTS, and under that *max_iter*\n"
      ],
      "metadata": {
        "id": "cWzdG3XFYnGD"
      }
    },
    {
      "cell_type": "code",
      "source": [
        "!python /content/yolact_edge/train.py --config=yolact_base_config --resume=/content/yolact_edge/weights/yolact_base_99_100.pth"
      ],
      "metadata": {
        "id": "__PAgTs9c2i-"
      },
      "execution_count": null,
      "outputs": []
    },
    {
      "cell_type": "code",
      "source": [
        "!python3 /content/yolact_edge/train.py --help\n"
      ],
      "metadata": {
        "id": "Bn7Xaeol65iu"
      },
      "execution_count": null,
      "outputs": []
    },
    {
      "cell_type": "code",
      "source": [
        "# Trains using the base config with a batch size of 8 (the default).\n",
        "# !python /content/yolact/train.py --config=yolact_base_config\n",
        "\n",
        "# Trains yolact_base_config with a batch_size of 5. For the 550px models, 1 batch takes up around 1.5 gigs of VRAM, so specify accordingly.\n",
        "# !python /content/yolact/train.py --config=yolact_base_config --batch_size=5\n",
        "\n",
        "# Resume training yolact_base with a specific weight file and start from the iteration specified in the weight file's name.\n",
        "# !python /content/yolact/train.py --config=yolact_base_config --resume=weights/yolact_base_10_32100.pth --start_iter=-1\n",
        "\n",
        "# Use the help option to see a description of all available command line arguments\n",
        "# !python /content/yolact/train.py --help"
      ],
      "metadata": {
        "id": "WXq-dE5ydv2f"
      },
      "execution_count": null,
      "outputs": []
    },
    {
      "cell_type": "code",
      "source": [
        "# Pre-train the image based model\n",
        "# !python train.py --config=yolact_edge_youtubevis_config\n",
        "\n",
        "# Train the flow (warping) module\n",
        "# !python train.py --config=yolact_edge_vid_trainflow_config --resume=./weights/yolact_edge_youtubevis_847_50000.pth\n",
        "\n",
        "# Fine tune the network jointly\n",
        "# !python train.py --config=yolact_edge_vid_config --resume=./weights/yolact_edge_vid_trainflow_144_100000.pth\n"
      ],
      "metadata": {
        "id": "NQYyWPpqVP-K"
      },
      "execution_count": null,
      "outputs": []
    },
    {
      "cell_type": "markdown",
      "source": [
        "##TESTING THE MODEL"
      ],
      "metadata": {
        "id": "IMZYBJkeYWSa"
      }
    },
    {
      "cell_type": "code",
      "metadata": {
        "id": "2mPeJJ4bNoQy",
        "colab": {
          "base_uri": "https://localhost:8080/"
        },
        "outputId": "9e0b7d35-a469-43fd-899e-49a134285c79"
      },
      "source": [
        "!python /content/yolact_edge/eval.py --trained_model=/content/yolact_edge/weights/yolact_base_99_100.pth --config=yolact_base_config --score_threshold=0.15 --top_k=15 --display --image=/content/images.jpg:/content/output.jpg \n",
        "\n",
        "# Display qualitative results on the specified image: --image=my_image.png \n",
        "# Process a whole folder of images: --images=path/to/input/folder:path/to/output/folder \n",
        "# Process an image and save it to another file: --image=input_image.png:output_image.png \n",
        "\n",
        "# Display a video in real-time. \"--video_multiframe\" will process that many frames at once for improved performance.\n",
        "# If you want, use \"--display_fps\" to draw the FPS directly on the frame.\n",
        "# --video_multiframe=4 --video=my_video.mp4 \n",
        "\n",
        "# Display a webcam feed in real-time. If you have multiple webcams pass the index of the webcam you want instead of 0.\n",
        "# --video_multiframe=4 --video=0 \n",
        "\n",
        "# Process a video and save it to another file. This uses the same pipeline as the ones above now, so it's fast!\n",
        "# --video_multiframe=4 --video=input_video.mp4:output_video.mp4 \n"
      ],
      "execution_count": null,
      "outputs": [
        {
          "output_type": "stream",
          "name": "stdout",
          "text": [
            "\u001b[32m[12/24 17:35:04 yolact.eval]: \u001b[0mLoading model...\n",
            "\u001b[32m[12/24 17:35:06 yolact.eval]: \u001b[0mModel loaded.\n"
          ]
        }
      ]
    },
    {
      "cell_type": "markdown",
      "source": [
        "##DISPLAYING THE RESULTS \n"
      ],
      "metadata": {
        "id": "h6Ea653dX97b"
      }
    },
    {
      "cell_type": "code",
      "metadata": {
        "id": "4U2u5-LKOHeV"
      },
      "source": [
        "import cv2\n",
        "import numpy as np\n",
        "from matplotlib import pyplot as plt\n",
        "from pathlib import Path\n",
        "\n",
        "output_images = Path('output_images')\n",
        "\n",
        "def show_image(img_path):\n",
        "  img = cv2.imread(img_path)\n",
        "  img_cvt=cv2.cvtColor(img, cv2.COLOR_BGR2RGB)\n",
        "  plt.figure(figsize=(16,16))\n",
        "  plt.imshow(img_cvt)\n",
        "  plt.show()\n",
        "\n",
        "# Iterate through all of the output images and display them\n",
        "for img_path in output_images.iterdir():\n",
        "  print(img_path)\n",
        "  show_image(str(img_path))"
      ],
      "execution_count": null,
      "outputs": []
    },
    {
      "cell_type": "markdown",
      "source": [
        "##MOVING MODEL WEIGHTS FROM COLAB TO DRIVE"
      ],
      "metadata": {
        "id": "Ovy9shuxAyju"
      }
    },
    {
      "cell_type": "code",
      "source": [
        "# Create the Folder Structure in Drive to store weights\n",
        "!mkdir /content/drive/MyDrive/Yolact\n",
        "!mkdir /content/drive/MyDrive/Yolact/Balls_Weigths\n",
        "\n",
        "# Provide the drive path and the colab_path\n",
        "colab_path = '/content/weights/yolact_base_999_1000.pth'\n",
        "drive_path = '/content/drive/MyDrive/Yolact/Balls_Weigths/yolact_base_999_1000'\n",
        "\n",
        "# Move the weights from drive to colab\n",
        "!cp \"{colab_path}\" \"{drive_path}\""
      ],
      "metadata": {
        "id": "IJ4RnZc2_274"
      },
      "execution_count": null,
      "outputs": []
    },
    {
      "cell_type": "code",
      "source": [
        "balls_dataset = dataset_base.copy({\n",
        "   'name': 'balls_dataset',\n",
        "\n",
        "   'train_images': '/content/balls/train/images',\n",
        "   'train_info':   '/content/balls/train/annotations/train.json',\n",
        "\n",
        "   'valid_images': '/content/balls/val/images',\n",
        "   'valid_info':   '/content/balls/val/annotations/val.json',\n",
        "\n",
        "   'has_gt': True,\n",
        "   'class_names': ('Balls')\n",
        "})"
      ],
      "metadata": {
        "id": "Hu_Wo1wDn3nW"
      },
      "execution_count": null,
      "outputs": []
    },
    {
      "cell_type": "markdown",
      "source": [
        "##CLONING THE YOLACT REPO"
      ],
      "metadata": {
        "id": "TV4Ayo2hYUNu"
      }
    },
    {
      "cell_type": "code",
      "execution_count": null,
      "metadata": {
        "id": "2vFbDv2LYUNv"
      },
      "outputs": [],
      "source": [
        "%cd /content\n",
        "!git clone https://github.com/haotian-liu/yolact_edge.git\n",
        "!git clone https://github.com/chentinghao/download_google_drive.git\n",
        "\n",
        "%cd yolact_edge\n",
        "!mkdir -p weights\n",
        "\n",
        "!python ../download_google_drive/download_gdrive.py 1EAzO-vRDZ2hupUJ4JFSUi40lAZ5Jo-Bp /content/weights/yolact_edge_54_800000.pth"
      ]
    },
    {
      "cell_type": "code",
      "source": [
        "!python3 -m pip install gitpython"
      ],
      "metadata": {
        "id": "ftD1BoazYUNv"
      },
      "execution_count": null,
      "outputs": []
    },
    {
      "cell_type": "markdown",
      "source": [
        "##MOUNTING OUR GOOGLE DRIVE"
      ],
      "metadata": {
        "id": "jBeqnXE1YUNv"
      }
    },
    {
      "cell_type": "code",
      "source": [
        "from google.colab import drive\n",
        "drive.mount('/content/drive')\n",
        "!ls /content/drive/MyDrive"
      ],
      "metadata": {
        "id": "i3h-pJANYUNv"
      },
      "execution_count": null,
      "outputs": []
    },
    {
      "cell_type": "markdown",
      "source": [
        "##MOVING MODEL WEIGHTS FROM RANDOM DRIVE TO COLAB"
      ],
      "metadata": {
        "id": "OxHP2Xx_YUNv"
      }
    },
    {
      "cell_type": "code",
      "source": [
        "# Create the Folder Structure in Colab to store weights\n",
        "!mkdir /content/weights\n",
        "\n",
        "# Provide the model_name, file_id, and colab path to store the model weights\n",
        "model_name = \"yolact_edge_mobilenetv2_54_800000.pth\"\n",
        "file_id = \"1L4N4VcykqE-D5JUgWW9zBd6WKmZPBAZQ\"\n",
        "colab_path = \"/content/weights\"\n",
        "\n",
        "# Download the model weights\n",
        "!gdown \"{file_id}&confirm=t\" --output='{colab_path}/{model_name}.pth'"
      ],
      "metadata": {
        "colab": {
          "base_uri": "https://localhost:8080/"
        },
        "outputId": "59aee300-8837-4903-e39c-6129378e132e",
        "id": "IfHcXzsQYUNv"
      },
      "execution_count": null,
      "outputs": [
        {
          "output_type": "stream",
          "name": "stdout",
          "text": [
            "mkdir: cannot create directory ‘/content/weights’: File exists\n",
            "Downloading...\n",
            "From: https://drive.google.com/uc?id=1L4N4VcykqE-D5JUgWW9zBd6WKmZPBAZQ&confirm=t\n",
            "To: /content/weights/yolact_edge_mobilenetv2_54_800000.pth.pth\n",
            "100% 36.3M/36.3M [00:00<00:00, 46.8MB/s]\n"
          ]
        }
      ]
    },
    {
      "cell_type": "markdown",
      "source": [
        "##MOVING MODEL WEIGHTS FROM DRIVE TO COLAB"
      ],
      "metadata": {
        "id": "1ytULdBUYUNw"
      }
    },
    {
      "cell_type": "code",
      "source": [
        "# Create the Folder Structure in Colab to store weights\n",
        "!mkdir /content/yolact\n",
        "!mkdir /content/yolact/model_weights\n",
        "\n",
        "# Provide the drive path and the colab_path\n",
        "drive_path = '/content/drive/MyDrive/yolact_plus_resnet50_54_800000.pth'\n",
        "colab_path = '/content/yolact/model_weights/yolact_plus_resnet50_54_800000.pth'\n",
        "\n",
        "# Move the weights from drive to colab\n",
        "!cp \"{drive_path}\" \"{colab_path}\""
      ],
      "metadata": {
        "id": "OEVhbCMNYUNw"
      },
      "execution_count": null,
      "outputs": []
    },
    {
      "cell_type": "markdown",
      "source": [
        "##CUSTOM DATASET\n",
        "* Drop the file with your custom dataset in the /content by dragging and dropping as a zip folder.\n",
        "*Unzip the zip folder as follows:\n",
        "```\n",
        "!unzip -q /content/custom_dataset.zip -d /content/\n",
        "```\n",
        "*Click on the following config file link: /content/yolact_edge/yolact_edge/data/config.py.\n",
        "*Under this file, go to \"DATASETS\" and add the following. \n",
        "```\n",
        "my_custom_dataset = dataset_base.copy({\n",
        "    'name': 'My Dataset',\n",
        "\n",
        "    'train_images': 'path_to_training_images',\n",
        "    'train_info':   'path_to_training_annotation',\n",
        "\n",
        "    'valid_images': 'path_to_validation_images',\n",
        "    'valid_info':   'path_to_validation_annotation',\n",
        "\n",
        "    'has_gt': True,\n",
        "    'class_names': ('my_class_id_1', 'my_class_id_2', 'my_class_id_3', ...)\n",
        "})\n",
        "```\n",
        "*In the above, add the path to your train and test dataset and annotations files, from the custom dataset you unziped. \n",
        "*Then under the YOLACT v1.0 CONFIGS section and change the dataset to custom_dataset\n",
        "\n"
      ],
      "metadata": {
        "id": "D-84huI6YUNw"
      }
    },
    {
      "cell_type": "code",
      "source": [
        "!unzip -q /content/main_images.zip -d /content/"
      ],
      "metadata": {
        "id": "TPAuVXb2YUNw"
      },
      "execution_count": null,
      "outputs": []
    },
    {
      "cell_type": "markdown",
      "source": [
        "##TRAINING THE MODEL\n",
        "\n",
        "* If you encounter the error: *RuntimeError: Expected a ‘cuda’ device type for generator but found ‘cpu’*,\n",
        "*Click the following link for the test.py file: /content/yolact/train.py, and go to line 251 and change shuffle=True to shuffle=False\n",
        "\n",
        "\n",
        "* To change the number of iterations, check under CONFIG DEFAULTS, and under that *max_iter*\n"
      ],
      "metadata": {
        "id": "NQuk4V-aYUNx"
      }
    },
    {
      "cell_type": "code",
      "source": [
        "!python3 /content/yolact_edge/train.py --config=yolact_edge_mobilenetv2_config --resume=/content/weights/yolact_edge_mobilenetv2_54_800000.pth.pth"
      ],
      "metadata": {
        "id": "8QecE1rvYUNx"
      },
      "execution_count": null,
      "outputs": []
    },
    {
      "cell_type": "code",
      "source": [
        "!python3 /content/yolact_edge/train.py --help\n"
      ],
      "metadata": {
        "id": "8vrfVHHkYUNx"
      },
      "execution_count": null,
      "outputs": []
    },
    {
      "cell_type": "code",
      "source": [
        "# Trains using the base config with a batch size of 8 (the default).\n",
        "# !python /content/yolact/train.py --config=yolact_base_config\n",
        "\n",
        "# Trains yolact_base_config with a batch_size of 5. For the 550px models, 1 batch takes up around 1.5 gigs of VRAM, so specify accordingly.\n",
        "# !python /content/yolact/train.py --config=yolact_base_config --batch_size=5\n",
        "\n",
        "# Resume training yolact_base with a specific weight file and start from the iteration specified in the weight file's name.\n",
        "# !python /content/yolact/train.py --config=yolact_base_config --resume=weights/yolact_base_10_32100.pth --start_iter=-1\n",
        "\n",
        "# Use the help option to see a description of all available command line arguments\n",
        "# !python /content/yolact/train.py --help"
      ],
      "metadata": {
        "id": "rLD_qpONYUNx"
      },
      "execution_count": null,
      "outputs": []
    },
    {
      "cell_type": "code",
      "source": [
        "# Pre-train the image based model\n",
        "# !python train.py --config=yolact_edge_youtubevis_config\n",
        "\n",
        "# Train the flow (warping) module\n",
        "# !python train.py --config=yolact_edge_vid_trainflow_config --resume=./weights/yolact_edge_youtubevis_847_50000.pth\n",
        "\n",
        "# Fine tune the network jointly\n",
        "# !python train.py --config=yolact_edge_vid_config --resume=./weights/yolact_edge_vid_trainflow_144_100000.pth\n"
      ],
      "metadata": {
        "id": "fQKcblRKYUNx"
      },
      "execution_count": null,
      "outputs": []
    },
    {
      "cell_type": "markdown",
      "source": [
        "##TESTING THE MODEL"
      ],
      "metadata": {
        "id": "FHUVi-9LYUNx"
      }
    },
    {
      "cell_type": "code",
      "metadata": {
        "colab": {
          "base_uri": "https://localhost:8080/"
        },
        "outputId": "0eeb79ce-b4c5-4e27-83f2-c5a5bf50dec6",
        "id": "QuclxEVPYUNx"
      },
      "source": [
        "!python /content/yolact_edge/eval.py --config=yolact_edge_mobilenetv2_config --disable_tensorrt --trained_model=/content/yolact_edge/weights/yolact_edge_mobilenetv2_99_100.pth --score_threshold=0.80 --top_k=15 --image=/content/images.jpg:/content/output.jpg \n",
        "\n",
        "# Display qualitative results on the specified image: --image=my_image.png \n",
        "# Process a whole folder of images: --images=path/to/input/folder:path/to/output/folder \n",
        "# Process an image and save it to another file: --image=input_image.png:output_image.png \n",
        "\n",
        "# Display a video in real-time. \"--video_multiframe\" will process that many frames at once for improved performance.\n",
        "# If you want, use \"--display_fps\" to draw the FPS directly on the frame.\n",
        "# --video_multiframe=4 --video=my_video.mp4 \n",
        "\n",
        "# Display a webcam feed in real-time. If you have multiple webcams pass the index of the webcam you want instead of 0.\n",
        "# --video_multiframe=4 --video=0 \n",
        "\n",
        "# Process a video and save it to another file. This uses the same pipeline as the ones above now, so it's fast!\n",
        "# --video_multiframe=4 --video=input_video.mp4:output_video.mp4 \n"
      ],
      "execution_count": null,
      "outputs": [
        {
          "output_type": "stream",
          "name": "stdout",
          "text": [
            "\u001b[32m[12/24 18:23:07 yolact.eval]: \u001b[0mLoading model...\n",
            "\u001b[32m[12/24 18:23:09 yolact.eval]: \u001b[0mModel loaded.\n"
          ]
        }
      ]
    },
    {
      "cell_type": "markdown",
      "source": [
        "##DISPLAYING THE RESULTS \n"
      ],
      "metadata": {
        "id": "WIHykDTyYUNy"
      }
    },
    {
      "cell_type": "code",
      "metadata": {
        "id": "NBwGeCJbYUNy"
      },
      "source": [
        "import cv2\n",
        "import numpy as np\n",
        "from matplotlib import pyplot as plt\n",
        "from pathlib import Path\n",
        "\n",
        "output_images = Path('output_images')\n",
        "\n",
        "def show_image(img_path):\n",
        "  img = cv2.imread(img_path)\n",
        "  img_cvt=cv2.cvtColor(img, cv2.COLOR_BGR2RGB)\n",
        "  plt.figure(figsize=(16,16))\n",
        "  plt.imshow(img_cvt)\n",
        "  plt.show()\n",
        "\n",
        "# Iterate through all of the output images and display them\n",
        "for img_path in output_images.iterdir():\n",
        "  print(img_path)\n",
        "  show_image(str(img_path))"
      ],
      "execution_count": null,
      "outputs": []
    },
    {
      "cell_type": "markdown",
      "source": [
        "##MOVING MODEL WEIGHTS FROM COLAB TO DRIVE"
      ],
      "metadata": {
        "id": "_oj2tbASYUNy"
      }
    },
    {
      "cell_type": "code",
      "source": [
        "# Create the Folder Structure in Drive to store weights\n",
        "!mkdir /content/drive/MyDrive/Yolact\n",
        "!mkdir /content/drive/MyDrive/Yolact/Balls_Weigths\n",
        "\n",
        "# Provide the drive path and the colab_path\n",
        "colab_path = '/content/weights/yolact_base_999_1000.pth'\n",
        "drive_path = '/content/drive/MyDrive/Yolact/Balls_Weigths/yolact_base_999_1000'\n",
        "\n",
        "# Move the weights from drive to colab\n",
        "!cp \"{colab_path}\" \"{drive_path}\""
      ],
      "metadata": {
        "id": "2J6T7UmiYUNy"
      },
      "execution_count": null,
      "outputs": []
    },
    {
      "cell_type": "code",
      "source": [
        "balls_dataset = dataset_base.copy({\n",
        "   'name': 'balls_dataset',\n",
        "\n",
        "   'train_images': '/content/balls/train/images',\n",
        "   'train_info':   '/content/balls/train/annotations/train.json',\n",
        "\n",
        "   'valid_images': '/content/balls/val/images',\n",
        "   'valid_info':   '/content/balls/val/annotations/val.json',\n",
        "\n",
        "   'has_gt': True,\n",
        "   'class_names': ('Balls')\n",
        "})"
      ],
      "metadata": {
        "id": "q7vefH6SYUNy"
      },
      "execution_count": null,
      "outputs": []
    }
  ]
}