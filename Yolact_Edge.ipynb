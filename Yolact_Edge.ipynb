{
  "nbformat": 4,
  "nbformat_minor": 0,
  "metadata": {
    "colab": {
      "provenance": [],
      "authorship_tag": "ABX9TyPLvDQjThkXybhC5SXhFjSI",
      "include_colab_link": true
    },
    "kernelspec": {
      "name": "python3",
      "display_name": "Python 3"
    },
    "language_info": {
      "name": "python"
    },
    "accelerator": "GPU",
    "gpuClass": "standard"
  },
  "cells": [
    {
      "cell_type": "markdown",
      "metadata": {
        "id": "view-in-github",
        "colab_type": "text"
      },
      "source": [
        "<a href=\"https://colab.research.google.com/github/nnilayy/Yolact-Edge/blob/main/Yolact_Edge.ipynb\" target=\"_parent\"><img src=\"https://colab.research.google.com/assets/colab-badge.svg\" alt=\"Open In Colab\"/></a>"
      ]
    },
    {
      "cell_type": "markdown",
      "source": [
        "##CLONING THE YOLACT REPO"
      ],
      "metadata": {
        "id": "TVf_ajfjTuhG"
      }
    },
    {
      "cell_type": "code",
      "execution_count": null,
      "metadata": {
        "id": "oXrGBciORtr7"
      },
      "outputs": [],
      "source": [
        "%cd /content\n",
        "!git clone https://github.com/haotian-liu/yolact_edge.git\n",
        "!git clone https://github.com/chentinghao/download_google_drive.git\n",
        "\n",
        "%cd yolact_edge\n",
        "!mkdir -p weights\n",
        "\n",
        "!python ../download_google_drive/download_gdrive.py 1EAzO-vRDZ2hupUJ4JFSUi40lAZ5Jo-Bp /content/weights/yolact_edge_54_800000.pth"
      ]
    },
    {
      "cell_type": "code",
      "source": [
        "!python3 -m pip install gitpython"
      ],
      "metadata": {
        "id": "RQnW6Ufg9RzK"
      },
      "execution_count": null,
      "outputs": []
    },
    {
      "cell_type": "markdown",
      "source": [
        "##MOUNTING OUR GOOGLE DRIVE"
      ],
      "metadata": {
        "id": "alEZRQKrBuHI"
      }
    },
    {
      "cell_type": "code",
      "source": [
        "from google.colab import drive\n",
        "drive.mount('/content/drive')\n",
        "!ls /content/drive/MyDrive"
      ],
      "metadata": {
        "id": "h14q4cU3Q0gK"
      },
      "execution_count": null,
      "outputs": []
    },
    {
      "cell_type": "markdown",
      "source": [
        "##MOVING MODEL WEIGHTS FROM RANDOM DRIVE TO COLAB"
      ],
      "metadata": {
        "id": "tL4DeJixA5oa"
      }
    },
    {
      "cell_type": "code",
      "source": [
        "# Create the Folder Structure in Colab to store weights\n",
        "!mkdir /content/weights\n",
        "\n",
        "# Provide the model_name, file_id, and colab path to store the model weights\n",
        "model_name = \"yolact_edge_54_800000\"\n",
        "file_id = \"1EAzO-vRDZ2hupUJ4JFSUi40lAZ5Jo-Bp\"\n",
        "colab_path = \"/content/weights\"\n",
        "\n",
        "# Download the model weights\n",
        "!gdown \"{file_id}&confirm=t\" --output='{colab_path}/{model_name}.pth'"
      ],
      "metadata": {
        "id": "PusZmvYYAm_L"
      },
      "execution_count": null,
      "outputs": []
    },
    {
      "cell_type": "markdown",
      "source": [
        "##MOVING MODEL WEIGHTS FROM DRIVE TO COLAB"
      ],
      "metadata": {
        "id": "9MjpiiTWAn-n"
      }
    },
    {
      "cell_type": "code",
      "source": [
        "# Create the Folder Structure in Colab to store weights\n",
        "!mkdir /content/yolact\n",
        "!mkdir /content/yolact/model_weights\n",
        "\n",
        "# Provide the drive path and the colab_path\n",
        "drive_path = '/content/drive/MyDrive/yolact_plus_resnet50_54_800000.pth'\n",
        "colab_path = '/content/yolact/model_weights/yolact_plus_resnet50_54_800000.pth'\n",
        "\n",
        "# Move the weights from drive to colab\n",
        "!cp \"{drive_path}\" \"{colab_path}\""
      ],
      "metadata": {
        "id": "zfqxbW2MAm_A"
      },
      "execution_count": null,
      "outputs": []
    },
    {
      "cell_type": "markdown",
      "source": [
        "##CUSTOM DATASET\n",
        "* Drop the file with your custom dataset in the /content by dragging and dropping as a zip folder.\n",
        "*Unzip the zip folder as follows:\n",
        "```\n",
        "!unzip -q /content/custom_dataset.zip -d /content/\n",
        "```\n",
        "*Click on the following config file link: /content/yolact_edge/yolact_edge/data/config.py.\n",
        "*Under this file, go to \"DATASETS\" and add the following. \n",
        "```\n",
        "my_custom_dataset = dataset_base.copy({\n",
        "    'name': 'My Dataset',\n",
        "\n",
        "    'train_images': 'path_to_training_images',\n",
        "    'train_info':   'path_to_training_annotation',\n",
        "\n",
        "    'valid_images': 'path_to_validation_images',\n",
        "    'valid_info':   'path_to_validation_annotation',\n",
        "\n",
        "    'has_gt': True,\n",
        "    'class_names': ('my_class_id_1', 'my_class_id_2', 'my_class_id_3', ...)\n",
        "})\n",
        "```\n",
        "*In the above, add the path to your train and test dataset and annotations files, from the custom dataset you unziped. \n",
        "*Then under the YOLACT v1.0 CONFIGS section and change the dataset to custom_dataset\n",
        "\n"
      ],
      "metadata": {
        "id": "VZNyCaB8dYnl"
      }
    },
    {
      "cell_type": "code",
      "source": [
        "!unzip -q /content/main_images.zip -d /content/"
      ],
      "metadata": {
        "id": "1H0oFH4fmp6_"
      },
      "execution_count": null,
      "outputs": []
    },
    {
      "cell_type": "markdown",
      "source": [
        "##TRAINING THE MODEL\n",
        "\n",
        "* If you encounter the error: *RuntimeError: Expected a ‘cuda’ device type for generator but found ‘cpu’*,\n",
        "*Click the following link for the test.py file: /content/yolact/train.py, and go to line 251 and change shuffle=True to shuffle=False\n",
        "\n",
        "\n",
        "* To change the number of iterations, check under CONFIG DEFAULTS, and under that *max_iter*\n"
      ],
      "metadata": {
        "id": "cWzdG3XFYnGD"
      }
    },
    {
      "cell_type": "code",
      "source": [
        "!python /content/yolact_edge/train.py --config=yolact_base_config --resume=/content/yolact_edge/weights/yolact_base_99_100.pth"
      ],
      "metadata": {
        "id": "__PAgTs9c2i-"
      },
      "execution_count": null,
      "outputs": []
    },
    {
      "cell_type": "code",
      "source": [
        "!python3 /content/yolact_edge/train.py --help\n"
      ],
      "metadata": {
        "id": "Bn7Xaeol65iu"
      },
      "execution_count": null,
      "outputs": []
    },
    {
      "cell_type": "code",
      "source": [
        "# Trains using the base config with a batch size of 8 (the default).\n",
        "# !python /content/yolact/train.py --config=yolact_base_config\n",
        "\n",
        "# Trains yolact_base_config with a batch_size of 5. For the 550px models, 1 batch takes up around 1.5 gigs of VRAM, so specify accordingly.\n",
        "# !python /content/yolact/train.py --config=yolact_base_config --batch_size=5\n",
        "\n",
        "# Resume training yolact_base with a specific weight file and start from the iteration specified in the weight file's name.\n",
        "# !python /content/yolact/train.py --config=yolact_base_config --resume=weights/yolact_base_10_32100.pth --start_iter=-1\n",
        "\n",
        "# Use the help option to see a description of all available command line arguments\n",
        "# !python /content/yolact/train.py --help"
      ],
      "metadata": {
        "id": "WXq-dE5ydv2f"
      },
      "execution_count": null,
      "outputs": []
    },
    {
      "cell_type": "code",
      "source": [
        "# Pre-train the image based model\n",
        "# !python train.py --config=yolact_edge_youtubevis_config\n",
        "\n",
        "# Train the flow (warping) module\n",
        "# !python train.py --config=yolact_edge_vid_trainflow_config --resume=./weights/yolact_edge_youtubevis_847_50000.pth\n",
        "\n",
        "# Fine tune the network jointly\n",
        "# !python train.py --config=yolact_edge_vid_config --resume=./weights/yolact_edge_vid_trainflow_144_100000.pth\n"
      ],
      "metadata": {
        "id": "NQYyWPpqVP-K"
      },
      "execution_count": null,
      "outputs": []
    },
    {
      "cell_type": "markdown",
      "source": [
        "##TESTING THE MODEL"
      ],
      "metadata": {
        "id": "IMZYBJkeYWSa"
      }
    },
    {
      "cell_type": "code",
      "metadata": {
        "id": "2mPeJJ4bNoQy",
        "colab": {
          "base_uri": "https://localhost:8080/"
        },
        "outputId": "9e0b7d35-a469-43fd-899e-49a134285c79"
      },
      "source": [
        "!python /content/yolact_edge/eval.py --trained_model=/content/yolact_edge/weights/yolact_base_99_100.pth --config=yolact_base_config --score_threshold=0.15 --top_k=15 --display --image=/content/images.jpg:/content/output.jpg \n",
        "\n",
        "# Display qualitative results on the specified image: --image=my_image.png \n",
        "# Process a whole folder of images: --images=path/to/input/folder:path/to/output/folder \n",
        "# Process an image and save it to another file: --image=input_image.png:output_image.png \n",
        "\n",
        "# Display a video in real-time. \"--video_multiframe\" will process that many frames at once for improved performance.\n",
        "# If you want, use \"--display_fps\" to draw the FPS directly on the frame.\n",
        "# --video_multiframe=4 --video=my_video.mp4 \n",
        "\n",
        "# Display a webcam feed in real-time. If you have multiple webcams pass the index of the webcam you want instead of 0.\n",
        "# --video_multiframe=4 --video=0 \n",
        "\n",
        "# Process a video and save it to another file. This uses the same pipeline as the ones above now, so it's fast!\n",
        "# --video_multiframe=4 --video=input_video.mp4:output_video.mp4 \n"
      ],
      "execution_count": null,
      "outputs": [
        {
          "output_type": "stream",
          "name": "stdout",
          "text": [
            "\u001b[32m[12/24 17:35:04 yolact.eval]: \u001b[0mLoading model...\n",
            "\u001b[32m[12/24 17:35:06 yolact.eval]: \u001b[0mModel loaded.\n"
          ]
        }
      ]
    },
    {
      "cell_type": "markdown",
      "source": [
        "##DISPLAYING THE RESULTS \n"
      ],
      "metadata": {
        "id": "h6Ea653dX97b"
      }
    },
    {
      "cell_type": "code",
      "metadata": {
        "id": "4U2u5-LKOHeV"
      },
      "source": [
        "import cv2\n",
        "import numpy as np\n",
        "from matplotlib import pyplot as plt\n",
        "from pathlib import Path\n",
        "\n",
        "output_images = Path('output_images')\n",
        "\n",
        "def show_image(img_path):\n",
        "  img = cv2.imread(img_path)\n",
        "  img_cvt=cv2.cvtColor(img, cv2.COLOR_BGR2RGB)\n",
        "  plt.figure(figsize=(16,16))\n",
        "  plt.imshow(img_cvt)\n",
        "  plt.show()\n",
        "\n",
        "# Iterate through all of the output images and display them\n",
        "for img_path in output_images.iterdir():\n",
        "  print(img_path)\n",
        "  show_image(str(img_path))"
      ],
      "execution_count": null,
      "outputs": []
    },
    {
      "cell_type": "markdown",
      "source": [
        "##MOVING MODEL WEIGHTS FROM COLAB TO DRIVE"
      ],
      "metadata": {
        "id": "Ovy9shuxAyju"
      }
    },
    {
      "cell_type": "code",
      "source": [
        "# Create the Folder Structure in Drive to store weights\n",
        "!mkdir /content/drive/MyDrive/Yolact\n",
        "!mkdir /content/drive/MyDrive/Yolact/Balls_Weigths\n",
        "\n",
        "# Provide the drive path and the colab_path\n",
        "colab_path = '/content/weights/yolact_base_999_1000.pth'\n",
        "drive_path = '/content/drive/MyDrive/Yolact/Balls_Weigths/yolact_base_999_1000'\n",
        "\n",
        "# Move the weights from drive to colab\n",
        "!cp \"{colab_path}\" \"{drive_path}\""
      ],
      "metadata": {
        "id": "IJ4RnZc2_274"
      },
      "execution_count": null,
      "outputs": []
    },
    {
      "cell_type": "code",
      "source": [
        "balls_dataset = dataset_base.copy({\n",
        "   'name': 'balls_dataset',\n",
        "\n",
        "   'train_images': '/content/balls/train/images',\n",
        "   'train_info':   '/content/balls/train/annotations/train.json',\n",
        "\n",
        "   'valid_images': '/content/balls/val/images',\n",
        "   'valid_info':   '/content/balls/val/annotations/val.json',\n",
        "\n",
        "   'has_gt': True,\n",
        "   'class_names': ('Balls')\n",
        "})"
      ],
      "metadata": {
        "id": "Hu_Wo1wDn3nW"
      },
      "execution_count": null,
      "outputs": []
    },
    {
      "cell_type": "markdown",
      "source": [
        "##CLONING THE YOLACT REPO"
      ],
      "metadata": {
        "id": "TV4Ayo2hYUNu"
      }
    },
    {
      "cell_type": "code",
      "execution_count": null,
      "metadata": {
        "id": "2vFbDv2LYUNv"
      },
      "outputs": [],
      "source": [
        "%cd /content\n",
        "!git clone https://github.com/haotian-liu/yolact_edge.git\n",
        "!git clone https://github.com/chentinghao/download_google_drive.git\n",
        "\n",
        "%cd yolact_edge\n",
        "!mkdir -p weights\n",
        "\n",
        "!python ../download_google_drive/download_gdrive.py 1EAzO-vRDZ2hupUJ4JFSUi40lAZ5Jo-Bp /content/weights/yolact_edge_54_800000.pth"
      ]
    },
    {
      "cell_type": "code",
      "source": [
        "!python3 -m pip install gitpython"
      ],
      "metadata": {
        "id": "ftD1BoazYUNv"
      },
      "execution_count": null,
      "outputs": []
    },
    {
      "cell_type": "markdown",
      "source": [
        "##MOUNTING OUR GOOGLE DRIVE"
      ],
      "metadata": {
        "id": "jBeqnXE1YUNv"
      }
    },
    {
      "cell_type": "code",
      "source": [
        "from google.colab import drive\n",
        "drive.mount('/content/drive')\n",
        "!ls /content/drive/MyDrive"
      ],
      "metadata": {
        "id": "i3h-pJANYUNv"
      },
      "execution_count": null,
      "outputs": []
    },
    {
      "cell_type": "markdown",
      "source": [
        "##MOVING MODEL WEIGHTS FROM RANDOM DRIVE TO COLAB"
      ],
      "metadata": {
        "id": "OxHP2Xx_YUNv"
      }
    },
    {
      "cell_type": "code",
      "source": [
        "# Create the Folder Structure in Colab to store weights\n",
        "!mkdir /content/weights\n",
        "\n",
        "# Provide the model_name, file_id, and colab path to store the model weights\n",
        "model_name = \"yolact_edge_mobilenetv2_54_800000.pth\"\n",
        "file_id = \"1L4N4VcykqE-D5JUgWW9zBd6WKmZPBAZQ\"\n",
        "colab_path = \"/content/weights\"\n",
        "\n",
        "# Download the model weights\n",
        "!gdown \"{file_id}&confirm=t\" --output='{colab_path}/{model_name}.pth'"
      ],
      "metadata": {
        "colab": {
          "base_uri": "https://localhost:8080/"
        },
        "outputId": "59aee300-8837-4903-e39c-6129378e132e",
        "id": "IfHcXzsQYUNv"
      },
      "execution_count": null,
      "outputs": [
        {
          "output_type": "stream",
          "name": "stdout",
          "text": [
            "mkdir: cannot create directory ‘/content/weights’: File exists\n",
            "Downloading...\n",
            "From: https://drive.google.com/uc?id=1L4N4VcykqE-D5JUgWW9zBd6WKmZPBAZQ&confirm=t\n",
            "To: /content/weights/yolact_edge_mobilenetv2_54_800000.pth.pth\n",
            "100% 36.3M/36.3M [00:00<00:00, 46.8MB/s]\n"
          ]
        }
      ]
    },
    {
      "cell_type": "markdown",
      "source": [
        "##MOVING MODEL WEIGHTS FROM DRIVE TO COLAB"
      ],
      "metadata": {
        "id": "1ytULdBUYUNw"
      }
    },
    {
      "cell_type": "code",
      "source": [
        "# Create the Folder Structure in Colab to store weights\n",
        "!mkdir /content/yolact\n",
        "!mkdir /content/yolact/model_weights\n",
        "\n",
        "# Provide the drive path and the colab_path\n",
        "drive_path = '/content/drive/MyDrive/yolact_plus_resnet50_54_800000.pth'\n",
        "colab_path = '/content/yolact/model_weights/yolact_plus_resnet50_54_800000.pth'\n",
        "\n",
        "# Move the weights from drive to colab\n",
        "!cp \"{drive_path}\" \"{colab_path}\""
      ],
      "metadata": {
        "id": "OEVhbCMNYUNw"
      },
      "execution_count": null,
      "outputs": []
    },
    {
      "cell_type": "markdown",
      "source": [
        "##CUSTOM DATASET\n",
        "* Drop the file with your custom dataset in the /content by dragging and dropping as a zip folder.\n",
        "*Unzip the zip folder as follows:\n",
        "```\n",
        "!unzip -q /content/custom_dataset.zip -d /content/\n",
        "```\n",
        "*Click on the following config file link: /content/yolact_edge/yolact_edge/data/config.py.\n",
        "*Under this file, go to \"DATASETS\" and add the following. \n",
        "```\n",
        "my_custom_dataset = dataset_base.copy({\n",
        "    'name': 'My Dataset',\n",
        "\n",
        "    'train_images': 'path_to_training_images',\n",
        "    'train_info':   'path_to_training_annotation',\n",
        "\n",
        "    'valid_images': 'path_to_validation_images',\n",
        "    'valid_info':   'path_to_validation_annotation',\n",
        "\n",
        "    'has_gt': True,\n",
        "    'class_names': ('my_class_id_1', 'my_class_id_2', 'my_class_id_3', ...)\n",
        "})\n",
        "```\n",
        "*In the above, add the path to your train and test dataset and annotations files, from the custom dataset you unziped. \n",
        "*Then under the YOLACT v1.0 CONFIGS section and change the dataset to custom_dataset\n",
        "\n"
      ],
      "metadata": {
        "id": "D-84huI6YUNw"
      }
    },
    {
      "cell_type": "code",
      "source": [
        "!unzip -q /content/main_images.zip -d /content/"
      ],
      "metadata": {
        "id": "TPAuVXb2YUNw"
      },
      "execution_count": null,
      "outputs": []
    },
    {
      "cell_type": "markdown",
      "source": [
        "##TRAINING THE MODEL\n",
        "\n",
        "* If you encounter the error: *RuntimeError: Expected a ‘cuda’ device type for generator but found ‘cpu’*,\n",
        "*Click the following link for the test.py file: /content/yolact/train.py, and go to line 251 and change shuffle=True to shuffle=False\n",
        "\n",
        "\n",
        "* To change the number of iterations, check under CONFIG DEFAULTS, and under that *max_iter*\n"
      ],
      "metadata": {
        "id": "NQuk4V-aYUNx"
      }
    },
    {
      "cell_type": "code",
      "source": [
        "!python /content/yolact_edge/train.py --config=yolact_edge_mobilenetv2_config --resume=/content/weights/yolact_edge_mobilenetv2_54_800000.pth.pth"
      ],
      "metadata": {
        "colab": {
          "base_uri": "https://localhost:8080/"
        },
        "outputId": "eb5cf69f-af31-4936-edab-bac9ec468c4d",
        "id": "8QecE1rvYUNx"
      },
      "execution_count": null,
      "outputs": [
        {
          "output_type": "stream",
          "name": "stdout",
          "text": [
            "\u001b[32m[12/24 18:03:16 yolact.train]: \u001b[0mArgs: /content/yolact_edge/train.py --config=yolact_edge_mobilenetv2_config --resume=/content/weights/yolact_edge_mobilenetv2_54_800000.pth.pth\n",
            "\u001b[32m[12/24 18:03:16 yolact.train]: \u001b[0mgit hash: 873fceb3883a2d3fac8481230b6f34346142719a\n",
            "loading annotations into memory...\n",
            "Done (t=0.00s)\n",
            "creating index...\n",
            "index created!\n",
            "loading annotations into memory...\n",
            "Done (t=0.00s)\n",
            "creating index...\n",
            "index created!\n",
            "\u001b[32m[12/24 18:03:19 yolact.train]: \u001b[0mResuming training, loading /content/weights/yolact_edge_mobilenetv2_54_800000.pth.pth...\n",
            "\u001b[5m\u001b[31mWARNING\u001b[0m \u001b[32m[12/24 18:03:19 yolact.model.load]: \u001b[0mSome parameters in the checkpoint have a different shape in the current model, and are initialized as they should be: prediction_layers.0.conf_layer.weight, prediction_layers.0.conf_layer.bias, semantic_seg_conv.weight, semantic_seg_conv.bias\n",
            "/usr/local/lib/python3.8/dist-packages/torch/utils/data/dataloader.py:554: UserWarning: This DataLoader will create 4 worker processes in total. Our suggested max number of worker in current system is 2, which is smaller than what this DataLoader is going to create. Please be aware that excessive worker creation might get DataLoader running slow or even freeze, lower the worker number to avoid potential slowness/freeze if necessary.\n",
            "  warnings.warn(_create_warning_msg(\n",
            "\u001b[32m[12/24 18:03:19 yolact.train]: \u001b[0mBegin training!\n",
            "/content/yolact_edge/yolact_edge/utils/augmentations.py:414: VisibleDeprecationWarning: Creating an ndarray from ragged nested sequences (which is a list-or-tuple of lists-or-tuples-or ndarrays with different lengths or shapes) is deprecated. If you meant to do this, you must specify 'dtype=object' when creating the ndarray.\n",
            "  mode = random.choice(self.sample_options)\n",
            "/content/yolact_edge/yolact_edge/utils/augmentations.py:414: VisibleDeprecationWarning: Creating an ndarray from ragged nested sequences (which is a list-or-tuple of lists-or-tuples-or ndarrays with different lengths or shapes) is deprecated. If you meant to do this, you must specify 'dtype=object' when creating the ndarray.\n",
            "  mode = random.choice(self.sample_options)\n",
            "/content/yolact_edge/yolact_edge/utils/augmentations.py:414: VisibleDeprecationWarning: Creating an ndarray from ragged nested sequences (which is a list-or-tuple of lists-or-tuples-or ndarrays with different lengths or shapes) is deprecated. If you meant to do this, you must specify 'dtype=object' when creating the ndarray.\n",
            "  mode = random.choice(self.sample_options)\n",
            "/content/yolact_edge/yolact_edge/utils/augmentations.py:414: VisibleDeprecationWarning: Creating an ndarray from ragged nested sequences (which is a list-or-tuple of lists-or-tuples-or ndarrays with different lengths or shapes) is deprecated. If you meant to do this, you must specify 'dtype=object' when creating the ndarray.\n",
            "  mode = random.choice(self.sample_options)\n",
            "/content/yolact_edge/yolact_edge/layers/box_utils.py:72: UserWarning: FALLBACK path has been taken inside: runCudaFusionGroup. This is an indication that codegen Failed for some reason.\n",
            "To debug try disable codegen fallback path via setting the env variable `export PYTORCH_NVFUSER_DISABLE=fallback`\n",
            " (Triggered internally at ../torch/csrc/jit/codegen/cuda/manager.cpp:331.)\n",
            "  inter = intersect(box_a, box_b)\n",
            "\u001b[32m[12/24 18:03:25 yolact.train]: \u001b[0meta: 0:00:00  epoch: 0  iter: 0  B: 0.400  M: 1.066  C: 9.236  S: 3.040  T: 13.742  time: 6.459  data_time: 0.000  lr: 0.000100  max_mem: 5787M\n",
            "\u001b[32m[12/24 18:03:26 yolact.eval]: \u001b[0mComputing validation mAP (this may take a while)...\n",
            "\n",
            "\n",
            "\u001b[32m[12/24 18:03:28 yolact.eval]: \u001b[0mCalculating mAP...\n",
            "\u001b[32m[12/24 18:03:28 yolact.eval]: \u001b[0m\n",
            "       |  all  |  .50  |  .55  |  .60  |  .65  |  .70  |  .75  |  .80  |  .85  |  .90  |  .95  |\n",
            "-------+-------+-------+-------+-------+-------+-------+-------+-------+-------+-------+-------+\n",
            "   box |  0.00 |  0.00 |  0.00 |  0.00 |  0.00 |  0.00 |  0.00 |  0.00 |  0.00 |  0.00 |  0.00 |\n",
            "  mask |  0.00 |  0.00 |  0.00 |  0.00 |  0.00 |  0.00 |  0.00 |  0.00 |  0.00 |  0.00 |  0.00 |\n",
            "-------+-------+-------+-------+-------+-------+-------+-------+-------+-------+-------+-------+\n",
            "\u001b[32m[12/24 18:03:29 yolact.eval]: \u001b[0mComputing validation mAP (this may take a while)...\n",
            "\n",
            "\n",
            "\u001b[32m[12/24 18:03:29 yolact.eval]: \u001b[0mCalculating mAP...\n",
            "\u001b[32m[12/24 18:03:29 yolact.eval]: \u001b[0m\n",
            "       |  all  |  .50  |  .55  |  .60  |  .65  |  .70  |  .75  |  .80  |  .85  |  .90  |  .95  |\n",
            "-------+-------+-------+-------+-------+-------+-------+-------+-------+-------+-------+-------+\n",
            "   box |  0.00 |  0.00 |  0.00 |  0.00 |  0.00 |  0.00 |  0.00 |  0.00 |  0.00 |  0.00 |  0.00 |\n",
            "  mask |  0.00 |  0.00 |  0.00 |  0.00 |  0.00 |  0.00 |  0.00 |  0.00 |  0.00 |  0.00 |  0.00 |\n",
            "-------+-------+-------+-------+-------+-------+-------+-------+-------+-------+-------+-------+\n",
            "\u001b[32m[12/24 18:03:30 yolact.eval]: \u001b[0mComputing validation mAP (this may take a while)...\n",
            "\n",
            "\n",
            "\u001b[32m[12/24 18:03:30 yolact.eval]: \u001b[0mCalculating mAP...\n",
            "\u001b[32m[12/24 18:03:30 yolact.eval]: \u001b[0m\n",
            "       |  all  |  .50  |  .55  |  .60  |  .65  |  .70  |  .75  |  .80  |  .85  |  .90  |  .95  |\n",
            "-------+-------+-------+-------+-------+-------+-------+-------+-------+-------+-------+-------+\n",
            "   box |  0.00 |  0.00 |  0.00 |  0.00 |  0.00 |  0.00 |  0.00 |  0.00 |  0.00 |  0.00 |  0.00 |\n",
            "  mask |  0.00 |  0.00 |  0.00 |  0.00 |  0.00 |  0.00 |  0.00 |  0.00 |  0.00 |  0.00 |  0.00 |\n",
            "-------+-------+-------+-------+-------+-------+-------+-------+-------+-------+-------+-------+\n",
            "\u001b[32m[12/24 18:03:32 yolact.eval]: \u001b[0mComputing validation mAP (this may take a while)...\n",
            "\n",
            "\n",
            "\u001b[32m[12/24 18:03:32 yolact.eval]: \u001b[0mCalculating mAP...\n",
            "\u001b[32m[12/24 18:03:32 yolact.eval]: \u001b[0m\n",
            "       |  all  |  .50  |  .55  |  .60  |  .65  |  .70  |  .75  |  .80  |  .85  |  .90  |  .95  |\n",
            "-------+-------+-------+-------+-------+-------+-------+-------+-------+-------+-------+-------+\n",
            "   box |  9.43 | 13.64 | 13.64 | 13.64 | 13.64 | 13.64 |  9.63 |  8.20 |  8.20 |  0.00 |  0.00 |\n",
            "  mask | 11.35 | 13.64 | 13.64 | 13.64 | 13.64 | 13.64 |  9.63 |  9.63 |  9.63 |  8.20 |  8.20 |\n",
            "-------+-------+-------+-------+-------+-------+-------+-------+-------+-------+-------+-------+\n",
            "\u001b[32m[12/24 18:03:33 yolact.train]: \u001b[0meta: 0:01:10  epoch: 10  iter: 10  B: 0.455  M: 1.088  C: 7.551  S: 2.664  T: 11.758  time: 0.540  data_time: 0.022  lr: 0.000118  max_mem: 5844M\n",
            "\u001b[32m[12/24 18:03:33 yolact.eval]: \u001b[0mComputing validation mAP (this may take a while)...\n",
            "\n",
            "\n",
            "\u001b[32m[12/24 18:03:33 yolact.eval]: \u001b[0mCalculating mAP...\n",
            "\u001b[32m[12/24 18:03:33 yolact.eval]: \u001b[0m\n",
            "       |  all  |  .50  |  .55  |  .60  |  .65  |  .70  |  .75  |  .80  |  .85  |  .90  |  .95  |\n",
            "-------+-------+-------+-------+-------+-------+-------+-------+-------+-------+-------+-------+\n",
            "   box |  8.44 | 13.62 | 13.62 | 13.62 | 13.62 | 13.62 |  7.13 |  7.13 |  1.03 |  1.03 |  0.00 |\n",
            "  mask | 10.70 | 13.62 | 13.62 | 13.62 | 13.62 | 13.62 |  8.78 |  8.78 |  7.13 |  7.13 |  7.13 |\n",
            "-------+-------+-------+-------+-------+-------+-------+-------+-------+-------+-------+-------+\n",
            "\u001b[32m[12/24 18:03:34 yolact.eval]: \u001b[0mComputing validation mAP (this may take a while)...\n",
            "\n",
            "\n",
            "\u001b[32m[12/24 18:03:35 yolact.eval]: \u001b[0mCalculating mAP...\n",
            "\u001b[32m[12/24 18:03:35 yolact.eval]: \u001b[0m\n",
            "       |  all  |  .50  |  .55  |  .60  |  .65  |  .70  |  .75  |  .80  |  .85  |  .90  |  .95  |\n",
            "-------+-------+-------+-------+-------+-------+-------+-------+-------+-------+-------+-------+\n",
            "   box | 10.97 | 17.88 | 17.88 | 17.88 | 17.88 | 17.88 |  8.45 |  8.45 |  1.72 |  1.72 |  0.00 |\n",
            "  mask | 13.59 | 17.88 | 17.88 | 17.88 | 17.88 | 17.88 | 10.57 | 10.57 |  8.45 |  8.45 |  8.45 |\n",
            "-------+-------+-------+-------+-------+-------+-------+-------+-------+-------+-------+-------+\n",
            "\u001b[32m[12/24 18:03:36 yolact.eval]: \u001b[0mComputing validation mAP (this may take a while)...\n",
            "\n",
            "\n",
            "\u001b[32m[12/24 18:03:36 yolact.eval]: \u001b[0mCalculating mAP...\n",
            "\u001b[32m[12/24 18:03:36 yolact.eval]: \u001b[0m\n",
            "       |  all  |  .50  |  .55  |  .60  |  .65  |  .70  |  .75  |  .80  |  .85  |  .90  |  .95  |\n",
            "-------+-------+-------+-------+-------+-------+-------+-------+-------+-------+-------+-------+\n",
            "   box | 13.22 | 17.88 | 17.88 | 17.88 | 17.88 | 17.88 | 17.88 | 12.22 | 10.10 |  2.57 |  0.00 |\n",
            "  mask | 14.84 | 17.88 | 17.88 | 17.88 | 17.88 | 17.88 | 12.22 | 12.22 | 12.22 | 12.22 | 10.10 |\n",
            "-------+-------+-------+-------+-------+-------+-------+-------+-------+-------+-------+-------+\n",
            "\u001b[32m[12/24 18:03:37 yolact.eval]: \u001b[0mComputing validation mAP (this may take a while)...\n",
            "\n",
            "\n",
            "\u001b[32m[12/24 18:03:38 yolact.eval]: \u001b[0mCalculating mAP...\n",
            "\u001b[32m[12/24 18:03:38 yolact.eval]: \u001b[0m\n",
            "       |  all  |  .50  |  .55  |  .60  |  .65  |  .70  |  .75  |  .80  |  .85  |  .90  |  .95  |\n",
            "-------+-------+-------+-------+-------+-------+-------+-------+-------+-------+-------+-------+\n",
            "   box | 13.53 | 18.35 | 18.35 | 18.35 | 18.35 | 18.35 | 18.35 | 12.57 | 10.10 |  2.57 |  0.00 |\n",
            "  mask | 15.04 | 18.35 | 18.35 | 18.35 | 18.35 | 18.35 | 18.35 | 12.57 | 12.57 | 12.57 |  2.57 |\n",
            "-------+-------+-------+-------+-------+-------+-------+-------+-------+-------+-------+-------+\n",
            "\u001b[32m[12/24 18:03:39 yolact.eval]: \u001b[0mComputing validation mAP (this may take a while)...\n",
            "\n",
            "\n",
            "\u001b[32m[12/24 18:03:39 yolact.eval]: \u001b[0mCalculating mAP...\n",
            "\u001b[32m[12/24 18:03:39 yolact.eval]: \u001b[0m\n",
            "       |  all  |  .50  |  .55  |  .60  |  .65  |  .70  |  .75  |  .80  |  .85  |  .90  |  .95  |\n",
            "-------+-------+-------+-------+-------+-------+-------+-------+-------+-------+-------+-------+\n",
            "   box | 12.79 | 17.11 | 17.11 | 17.11 | 17.11 | 17.11 | 17.11 | 12.57 | 10.10 |  2.57 |  0.00 |\n",
            "  mask | 14.30 | 17.11 | 17.11 | 17.11 | 17.11 | 17.11 | 17.11 | 12.57 | 12.57 | 12.57 |  2.57 |\n",
            "-------+-------+-------+-------+-------+-------+-------+-------+-------+-------+-------+-------+\n",
            "\u001b[32m[12/24 18:03:40 yolact.train]: \u001b[0meta: 0:00:59  epoch: 20  iter: 20  B: 0.399  M: 0.967  C: 6.237  S: 2.191  T: 9.795  time: 0.627  data_time: 0.023  lr: 0.000136  max_mem: 5844M\n",
            "\u001b[32m[12/24 18:03:40 yolact.eval]: \u001b[0mComputing validation mAP (this may take a while)...\n",
            "\n",
            "\n",
            "\u001b[32m[12/24 18:03:40 yolact.eval]: \u001b[0mCalculating mAP...\n",
            "\u001b[32m[12/24 18:03:40 yolact.eval]: \u001b[0m\n",
            "       |  all  |  .50  |  .55  |  .60  |  .65  |  .70  |  .75  |  .80  |  .85  |  .90  |  .95  |\n",
            "-------+-------+-------+-------+-------+-------+-------+-------+-------+-------+-------+-------+\n",
            "   box | 13.39 | 18.02 | 18.02 | 18.02 | 18.02 | 18.02 | 18.02 | 13.07 | 10.10 |  2.57 |  0.00 |\n",
            "  mask | 14.99 | 18.02 | 18.02 | 18.02 | 18.02 | 18.02 | 18.02 | 13.07 | 13.07 | 13.07 |  2.57 |\n",
            "-------+-------+-------+-------+-------+-------+-------+-------+-------+-------+-------+-------+\n",
            "\u001b[32m[12/24 18:03:41 yolact.eval]: \u001b[0mComputing validation mAP (this may take a while)...\n",
            "\n",
            "\n",
            "\u001b[32m[12/24 18:03:42 yolact.eval]: \u001b[0mCalculating mAP...\n",
            "\u001b[32m[12/24 18:03:42 yolact.eval]: \u001b[0m\n",
            "       |  all  |  .50  |  .55  |  .60  |  .65  |  .70  |  .75  |  .80  |  .85  |  .90  |  .95  |\n",
            "-------+-------+-------+-------+-------+-------+-------+-------+-------+-------+-------+-------+\n",
            "   box | 13.46 | 18.02 | 18.02 | 18.02 | 18.02 | 18.02 | 18.02 | 13.81 | 10.10 |  2.57 |  0.00 |\n",
            "  mask | 15.97 | 18.02 | 18.02 | 18.02 | 18.02 | 18.02 | 18.02 | 13.81 | 13.81 | 13.81 | 10.10 |\n",
            "-------+-------+-------+-------+-------+-------+-------+-------+-------+-------+-------+-------+\n",
            "\u001b[32m[12/24 18:03:43 yolact.eval]: \u001b[0mComputing validation mAP (this may take a while)...\n",
            "\n",
            "\n",
            "\u001b[32m[12/24 18:03:43 yolact.eval]: \u001b[0mCalculating mAP...\n",
            "\u001b[32m[12/24 18:03:43 yolact.eval]: \u001b[0m\n",
            "       |  all  |  .50  |  .55  |  .60  |  .65  |  .70  |  .75  |  .80  |  .85  |  .90  |  .95  |\n",
            "-------+-------+-------+-------+-------+-------+-------+-------+-------+-------+-------+-------+\n",
            "   box | 13.46 | 18.02 | 18.02 | 18.02 | 18.02 | 18.02 | 18.02 | 13.81 | 10.10 |  2.57 |  0.00 |\n",
            "  mask | 15.21 | 18.02 | 18.02 | 18.02 | 18.02 | 18.02 | 18.02 | 13.81 | 13.81 | 13.81 |  2.57 |\n",
            "-------+-------+-------+-------+-------+-------+-------+-------+-------+-------+-------+-------+\n",
            "\u001b[32m[12/24 18:03:45 yolact.eval]: \u001b[0mComputing validation mAP (this may take a while)...\n",
            "\n",
            "\n",
            "\u001b[32m[12/24 18:03:45 yolact.eval]: \u001b[0mCalculating mAP...\n",
            "\u001b[32m[12/24 18:03:45 yolact.eval]: \u001b[0m\n",
            "       |  all  |  .50  |  .55  |  .60  |  .65  |  .70  |  .75  |  .80  |  .85  |  .90  |  .95  |\n",
            "-------+-------+-------+-------+-------+-------+-------+-------+-------+-------+-------+-------+\n",
            "   box | 13.46 | 18.02 | 18.02 | 18.02 | 18.02 | 18.02 | 18.02 | 13.81 | 10.10 |  2.57 |  0.00 |\n",
            "  mask | 15.97 | 18.02 | 18.02 | 18.02 | 18.02 | 18.02 | 18.02 | 13.81 | 13.81 | 13.81 | 10.10 |\n",
            "-------+-------+-------+-------+-------+-------+-------+-------+-------+-------+-------+-------+\n",
            "\u001b[32m[12/24 18:03:46 yolact.eval]: \u001b[0mComputing validation mAP (this may take a while)...\n",
            "\n",
            "\n",
            "\u001b[32m[12/24 18:03:46 yolact.eval]: \u001b[0mCalculating mAP...\n",
            "\u001b[32m[12/24 18:03:46 yolact.eval]: \u001b[0m\n",
            "       |  all  |  .50  |  .55  |  .60  |  .65  |  .70  |  .75  |  .80  |  .85  |  .90  |  .95  |\n",
            "-------+-------+-------+-------+-------+-------+-------+-------+-------+-------+-------+-------+\n",
            "   box | 13.46 | 18.02 | 18.02 | 18.02 | 18.02 | 18.02 | 18.02 | 13.81 | 10.10 |  2.57 |  0.00 |\n",
            "  mask | 16.34 | 18.02 | 18.02 | 18.02 | 18.02 | 18.02 | 18.02 | 13.81 | 13.81 | 13.81 | 13.81 |\n",
            "-------+-------+-------+-------+-------+-------+-------+-------+-------+-------+-------+-------+\n",
            "\u001b[32m[12/24 18:03:47 yolact.train]: \u001b[0meta: 0:00:52  epoch: 30  iter: 30  B: 0.376  M: 0.893  C: 5.250  S: 1.824  T: 8.343  time: 0.586  data_time: 0.020  lr: 0.000154  max_mem: 5844M\n",
            "\u001b[32m[12/24 18:03:48 yolact.eval]: \u001b[0mComputing validation mAP (this may take a while)...\n",
            "\n",
            "\n",
            "\u001b[32m[12/24 18:03:48 yolact.eval]: \u001b[0mCalculating mAP...\n",
            "\u001b[32m[12/24 18:03:48 yolact.eval]: \u001b[0m\n",
            "       |  all  |  .50  |  .55  |  .60  |  .65  |  .70  |  .75  |  .80  |  .85  |  .90  |  .95  |\n",
            "-------+-------+-------+-------+-------+-------+-------+-------+-------+-------+-------+-------+\n",
            "   box | 14.21 | 18.02 | 18.02 | 18.02 | 18.02 | 18.02 | 18.02 | 13.81 | 10.10 | 10.10 |  0.00 |\n",
            "  mask | 16.34 | 18.02 | 18.02 | 18.02 | 18.02 | 18.02 | 18.02 | 13.81 | 13.81 | 13.81 | 13.81 |\n",
            "-------+-------+-------+-------+-------+-------+-------+-------+-------+-------+-------+-------+\n",
            "\u001b[32m[12/24 18:03:49 yolact.eval]: \u001b[0mComputing validation mAP (this may take a while)...\n",
            "\n",
            "\n",
            "\u001b[32m[12/24 18:03:49 yolact.eval]: \u001b[0mCalculating mAP...\n",
            "\u001b[32m[12/24 18:03:49 yolact.eval]: \u001b[0m\n",
            "       |  all  |  .50  |  .55  |  .60  |  .65  |  .70  |  .75  |  .80  |  .85  |  .90  |  .95  |\n",
            "-------+-------+-------+-------+-------+-------+-------+-------+-------+-------+-------+-------+\n",
            "   box | 15.62 | 19.01 | 19.01 | 19.01 | 19.01 | 19.01 | 19.01 | 19.01 | 13.07 | 10.10 |  0.00 |\n",
            "  mask | 17.82 | 19.01 | 19.01 | 19.01 | 19.01 | 19.01 | 19.01 | 19.01 | 15.05 | 15.05 | 15.05 |\n",
            "-------+-------+-------+-------+-------+-------+-------+-------+-------+-------+-------+-------+\n",
            "\u001b[32m[12/24 18:03:50 yolact.eval]: \u001b[0mComputing validation mAP (this may take a while)...\n",
            "\n",
            "\n",
            "\u001b[32m[12/24 18:03:50 yolact.eval]: \u001b[0mCalculating mAP...\n",
            "\u001b[32m[12/24 18:03:50 yolact.eval]: \u001b[0m\n",
            "       |  all  |  .50  |  .55  |  .60  |  .65  |  .70  |  .75  |  .80  |  .85  |  .90  |  .95  |\n",
            "-------+-------+-------+-------+-------+-------+-------+-------+-------+-------+-------+-------+\n",
            "   box | 15.62 | 19.01 | 19.01 | 19.01 | 19.01 | 19.01 | 19.01 | 19.01 | 13.07 | 10.10 |  0.00 |\n",
            "  mask | 17.82 | 19.01 | 19.01 | 19.01 | 19.01 | 19.01 | 19.01 | 19.01 | 15.05 | 15.05 | 15.05 |\n",
            "-------+-------+-------+-------+-------+-------+-------+-------+-------+-------+-------+-------+\n",
            "\u001b[32m[12/24 18:03:52 yolact.eval]: \u001b[0mComputing validation mAP (this may take a while)...\n",
            "\n",
            "\n",
            "\u001b[32m[12/24 18:03:52 yolact.eval]: \u001b[0mCalculating mAP...\n",
            "\u001b[32m[12/24 18:03:52 yolact.eval]: \u001b[0m\n",
            "       |  all  |  .50  |  .55  |  .60  |  .65  |  .70  |  .75  |  .80  |  .85  |  .90  |  .95  |\n",
            "-------+-------+-------+-------+-------+-------+-------+-------+-------+-------+-------+-------+\n",
            "   box | 16.63 | 19.01 | 19.01 | 19.01 | 19.01 | 19.01 | 19.01 | 19.01 | 13.07 | 10.10 | 10.10 |\n",
            "  mask | 17.82 | 19.01 | 19.01 | 19.01 | 19.01 | 19.01 | 19.01 | 19.01 | 15.05 | 15.05 | 15.05 |\n",
            "-------+-------+-------+-------+-------+-------+-------+-------+-------+-------+-------+-------+\n",
            "\u001b[32m[12/24 18:03:53 yolact.eval]: \u001b[0mComputing validation mAP (this may take a while)...\n",
            "\n",
            "\n",
            "\u001b[32m[12/24 18:03:53 yolact.eval]: \u001b[0mCalculating mAP...\n",
            "\u001b[32m[12/24 18:03:53 yolact.eval]: \u001b[0m\n",
            "       |  all  |  .50  |  .55  |  .60  |  .65  |  .70  |  .75  |  .80  |  .85  |  .90  |  .95  |\n",
            "-------+-------+-------+-------+-------+-------+-------+-------+-------+-------+-------+-------+\n",
            "   box | 16.57 | 19.01 | 19.01 | 19.01 | 19.01 | 19.01 | 19.01 | 19.01 | 19.01 |  8.45 |  5.15 |\n",
            "  mask | 17.82 | 19.01 | 19.01 | 19.01 | 19.01 | 19.01 | 19.01 | 19.01 | 15.05 | 15.05 | 15.05 |\n",
            "-------+-------+-------+-------+-------+-------+-------+-------+-------+-------+-------+-------+\n",
            "\u001b[32m[12/24 18:03:54 yolact.train]: \u001b[0meta: 0:00:43  epoch: 40  iter: 40  B: 0.363  M: 0.852  C: 4.519  S: 1.546  T: 7.280  time: 0.605  data_time: 0.021  lr: 0.000172  max_mem: 5845M\n",
            "\u001b[32m[12/24 18:03:54 yolact.eval]: \u001b[0mComputing validation mAP (this may take a while)...\n",
            "\n",
            "\n",
            "\u001b[32m[12/24 18:03:55 yolact.eval]: \u001b[0mCalculating mAP...\n",
            "\u001b[32m[12/24 18:03:55 yolact.eval]: \u001b[0m\n",
            "       |  all  |  .50  |  .55  |  .60  |  .65  |  .70  |  .75  |  .80  |  .85  |  .90  |  .95  |\n",
            "-------+-------+-------+-------+-------+-------+-------+-------+-------+-------+-------+-------+\n",
            "   box | 16.57 | 19.01 | 19.01 | 19.01 | 19.01 | 19.01 | 19.01 | 19.01 | 19.01 |  8.45 |  5.15 |\n",
            "  mask | 17.82 | 19.01 | 19.01 | 19.01 | 19.01 | 19.01 | 19.01 | 19.01 | 15.05 | 15.05 | 15.05 |\n",
            "-------+-------+-------+-------+-------+-------+-------+-------+-------+-------+-------+-------+\n",
            "\u001b[32m[12/24 18:03:56 yolact.eval]: \u001b[0mComputing validation mAP (this may take a while)...\n",
            "\n",
            "\n",
            "\u001b[32m[12/24 18:03:56 yolact.eval]: \u001b[0mCalculating mAP...\n",
            "\u001b[32m[12/24 18:03:56 yolact.eval]: \u001b[0m\n",
            "       |  all  |  .50  |  .55  |  .60  |  .65  |  .70  |  .75  |  .80  |  .85  |  .90  |  .95  |\n",
            "-------+-------+-------+-------+-------+-------+-------+-------+-------+-------+-------+-------+\n",
            "   box | 16.14 | 19.01 | 19.01 | 19.01 | 19.01 | 19.01 | 19.01 | 19.01 | 19.01 |  6.73 |  2.57 |\n",
            "  mask | 17.82 | 19.01 | 19.01 | 19.01 | 19.01 | 19.01 | 19.01 | 19.01 | 15.05 | 15.05 | 15.05 |\n",
            "-------+-------+-------+-------+-------+-------+-------+-------+-------+-------+-------+-------+\n",
            "\u001b[32m[12/24 18:03:57 yolact.eval]: \u001b[0mComputing validation mAP (this may take a while)...\n",
            "\n",
            "\n",
            "\u001b[32m[12/24 18:03:57 yolact.eval]: \u001b[0mCalculating mAP...\n",
            "\u001b[32m[12/24 18:03:57 yolact.eval]: \u001b[0m\n",
            "       |  all  |  .50  |  .55  |  .60  |  .65  |  .70  |  .75  |  .80  |  .85  |  .90  |  .95  |\n",
            "-------+-------+-------+-------+-------+-------+-------+-------+-------+-------+-------+-------+\n",
            "   box | 15.49 | 19.01 | 19.01 | 19.01 | 19.01 | 19.01 | 19.01 | 19.01 | 15.05 |  6.73 |  0.00 |\n",
            "  mask | 17.82 | 19.01 | 19.01 | 19.01 | 19.01 | 19.01 | 19.01 | 19.01 | 15.05 | 15.05 | 15.05 |\n",
            "-------+-------+-------+-------+-------+-------+-------+-------+-------+-------+-------+-------+\n",
            "\u001b[32m[12/24 18:03:59 yolact.eval]: \u001b[0mComputing validation mAP (this may take a while)...\n",
            "\n",
            "\n",
            "\u001b[32m[12/24 18:03:59 yolact.eval]: \u001b[0mCalculating mAP...\n",
            "\u001b[32m[12/24 18:03:59 yolact.eval]: \u001b[0m\n",
            "       |  all  |  .50  |  .55  |  .60  |  .65  |  .70  |  .75  |  .80  |  .85  |  .90  |  .95  |\n",
            "-------+-------+-------+-------+-------+-------+-------+-------+-------+-------+-------+-------+\n",
            "   box | 16.83 | 19.01 | 19.01 | 19.01 | 19.01 | 19.01 | 19.01 | 19.01 | 15.05 | 15.05 |  5.15 |\n",
            "  mask | 16.77 | 19.01 | 19.01 | 19.01 | 19.01 | 19.01 | 19.01 | 15.05 | 15.05 | 15.05 |  8.45 |\n",
            "-------+-------+-------+-------+-------+-------+-------+-------+-------+-------+-------+-------+\n",
            "\u001b[32m[12/24 18:04:00 yolact.eval]: \u001b[0mComputing validation mAP (this may take a while)...\n",
            "\n",
            "\n",
            "\u001b[32m[12/24 18:04:00 yolact.eval]: \u001b[0mCalculating mAP...\n",
            "\u001b[32m[12/24 18:04:00 yolact.eval]: \u001b[0m\n",
            "       |  all  |  .50  |  .55  |  .60  |  .65  |  .70  |  .75  |  .80  |  .85  |  .90  |  .95  |\n",
            "-------+-------+-------+-------+-------+-------+-------+-------+-------+-------+-------+-------+\n",
            "   box | 16.83 | 19.01 | 19.01 | 19.01 | 19.01 | 19.01 | 19.01 | 19.01 | 15.05 | 15.05 |  5.15 |\n",
            "  mask | 16.77 | 19.01 | 19.01 | 19.01 | 19.01 | 19.01 | 19.01 | 15.05 | 15.05 | 15.05 |  8.45 |\n",
            "-------+-------+-------+-------+-------+-------+-------+-------+-------+-------+-------+-------+\n",
            "\u001b[32m[12/24 18:04:01 yolact.train]: \u001b[0meta: 0:00:36  epoch: 50  iter: 50  B: 0.344  M: 0.813  C: 3.974  S: 1.342  T: 6.473  time: 0.580  data_time: 0.023  lr: 0.000190  max_mem: 5845M\n",
            "\u001b[32m[12/24 18:04:01 yolact.eval]: \u001b[0mComputing validation mAP (this may take a while)...\n",
            "\n",
            "\n",
            "\u001b[32m[12/24 18:04:02 yolact.eval]: \u001b[0mCalculating mAP...\n",
            "\u001b[32m[12/24 18:04:02 yolact.eval]: \u001b[0m\n",
            "       |  all  |  .50  |  .55  |  .60  |  .65  |  .70  |  .75  |  .80  |  .85  |  .90  |  .95  |\n",
            "-------+-------+-------+-------+-------+-------+-------+-------+-------+-------+-------+-------+\n",
            "   box | 17.16 | 19.01 | 19.01 | 19.01 | 19.01 | 19.01 | 19.01 | 19.01 | 15.05 | 15.05 |  8.45 |\n",
            "  mask | 17.43 | 19.01 | 19.01 | 19.01 | 19.01 | 19.01 | 19.01 | 15.05 | 15.05 | 15.05 | 15.05 |\n",
            "-------+-------+-------+-------+-------+-------+-------+-------+-------+-------+-------+-------+\n",
            "\u001b[32m[12/24 18:04:03 yolact.eval]: \u001b[0mComputing validation mAP (this may take a while)...\n",
            "\n",
            "\n",
            "\u001b[32m[12/24 18:04:03 yolact.eval]: \u001b[0mCalculating mAP...\n",
            "\u001b[32m[12/24 18:04:03 yolact.eval]: \u001b[0m\n",
            "       |  all  |  .50  |  .55  |  .60  |  .65  |  .70  |  .75  |  .80  |  .85  |  .90  |  .95  |\n",
            "-------+-------+-------+-------+-------+-------+-------+-------+-------+-------+-------+-------+\n",
            "   box | 15.89 | 18.02 | 18.02 | 18.02 | 18.02 | 18.02 | 18.02 | 18.02 | 13.81 | 13.81 |  5.15 |\n",
            "  mask | 15.72 | 18.02 | 18.02 | 18.02 | 18.02 | 18.02 | 18.02 | 13.81 | 13.81 | 13.81 |  7.62 |\n",
            "-------+-------+-------+-------+-------+-------+-------+-------+-------+-------+-------+-------+\n",
            "\u001b[32m[12/24 18:04:04 yolact.eval]: \u001b[0mComputing validation mAP (this may take a while)...\n",
            "\n",
            "\n",
            "\u001b[32m[12/24 18:04:04 yolact.eval]: \u001b[0mCalculating mAP...\n",
            "\u001b[32m[12/24 18:04:04 yolact.eval]: \u001b[0m\n",
            "       |  all  |  .50  |  .55  |  .60  |  .65  |  .70  |  .75  |  .80  |  .85  |  .90  |  .95  |\n",
            "-------+-------+-------+-------+-------+-------+-------+-------+-------+-------+-------+-------+\n",
            "   box | 15.89 | 18.02 | 18.02 | 18.02 | 18.02 | 18.02 | 18.02 | 18.02 | 13.81 | 13.81 |  5.15 |\n",
            "  mask | 16.34 | 18.02 | 18.02 | 18.02 | 18.02 | 18.02 | 18.02 | 13.81 | 13.81 | 13.81 | 13.81 |\n",
            "-------+-------+-------+-------+-------+-------+-------+-------+-------+-------+-------+-------+\n",
            "\u001b[32m[12/24 18:04:05 yolact.eval]: \u001b[0mComputing validation mAP (this may take a while)...\n",
            "\n",
            "\n",
            "\u001b[32m[12/24 18:04:06 yolact.eval]: \u001b[0mCalculating mAP...\n",
            "\u001b[32m[12/24 18:04:06 yolact.eval]: \u001b[0m\n",
            "       |  all  |  .50  |  .55  |  .60  |  .65  |  .70  |  .75  |  .80  |  .85  |  .90  |  .95  |\n",
            "-------+-------+-------+-------+-------+-------+-------+-------+-------+-------+-------+-------+\n",
            "   box | 15.89 | 18.02 | 18.02 | 18.02 | 18.02 | 18.02 | 18.02 | 18.02 | 13.81 | 13.81 |  5.15 |\n",
            "  mask | 15.72 | 18.02 | 18.02 | 18.02 | 18.02 | 18.02 | 18.02 | 13.81 | 13.81 | 13.81 |  7.62 |\n",
            "-------+-------+-------+-------+-------+-------+-------+-------+-------+-------+-------+-------+\n",
            "\u001b[32m[12/24 18:04:07 yolact.eval]: \u001b[0mComputing validation mAP (this may take a while)...\n",
            "\n",
            "\n",
            "\u001b[32m[12/24 18:04:07 yolact.eval]: \u001b[0mCalculating mAP...\n",
            "\u001b[32m[12/24 18:04:07 yolact.eval]: \u001b[0m\n",
            "       |  all  |  .50  |  .55  |  .60  |  .65  |  .70  |  .75  |  .80  |  .85  |  .90  |  .95  |\n",
            "-------+-------+-------+-------+-------+-------+-------+-------+-------+-------+-------+-------+\n",
            "   box | 16.31 | 18.02 | 18.02 | 18.02 | 18.02 | 18.02 | 18.02 | 18.02 | 18.02 | 13.81 |  5.15 |\n",
            "  mask | 15.72 | 18.02 | 18.02 | 18.02 | 18.02 | 18.02 | 18.02 | 13.81 | 13.81 | 13.81 |  7.62 |\n",
            "-------+-------+-------+-------+-------+-------+-------+-------+-------+-------+-------+-------+\n",
            "\u001b[32m[12/24 18:04:08 yolact.train]: \u001b[0meta: 0:00:28  epoch: 60  iter: 60  B: 0.326  M: 0.772  C: 3.550  S: 1.189  T: 5.837  time: 0.617  data_time: 0.027  lr: 0.000208  max_mem: 5845M\n",
            "\u001b[32m[12/24 18:04:08 yolact.eval]: \u001b[0mComputing validation mAP (this may take a while)...\n",
            "\n",
            "\n",
            "\u001b[32m[12/24 18:04:08 yolact.eval]: \u001b[0mCalculating mAP...\n",
            "\u001b[32m[12/24 18:04:08 yolact.eval]: \u001b[0m\n",
            "       |  all  |  .50  |  .55  |  .60  |  .65  |  .70  |  .75  |  .80  |  .85  |  .90  |  .95  |\n",
            "-------+-------+-------+-------+-------+-------+-------+-------+-------+-------+-------+-------+\n",
            "   box | 14.48 | 15.95 | 15.05 | 15.05 | 15.05 | 15.05 | 15.05 | 15.05 | 15.05 | 15.05 |  8.45 |\n",
            "  mask | 14.39 | 15.05 | 15.05 | 15.05 | 15.05 | 15.05 | 15.05 | 15.05 | 15.05 | 15.05 |  8.45 |\n",
            "-------+-------+-------+-------+-------+-------+-------+-------+-------+-------+-------+-------+\n",
            "\u001b[32m[12/24 18:04:10 yolact.eval]: \u001b[0mComputing validation mAP (this may take a while)...\n",
            "\n",
            "\n",
            "\u001b[32m[12/24 18:04:10 yolact.eval]: \u001b[0mCalculating mAP...\n",
            "\u001b[32m[12/24 18:04:10 yolact.eval]: \u001b[0m\n",
            "       |  all  |  .50  |  .55  |  .60  |  .65  |  .70  |  .75  |  .80  |  .85  |  .90  |  .95  |\n",
            "-------+-------+-------+-------+-------+-------+-------+-------+-------+-------+-------+-------+\n",
            "   box | 16.56 | 18.02 | 18.02 | 18.02 | 18.02 | 18.02 | 18.02 | 18.02 | 18.02 | 13.81 |  7.62 |\n",
            "  mask | 16.14 | 18.02 | 18.02 | 18.02 | 18.02 | 18.02 | 18.02 | 18.02 | 13.81 | 13.81 |  7.62 |\n",
            "-------+-------+-------+-------+-------+-------+-------+-------+-------+-------+-------+-------+\n",
            "\u001b[32m[12/24 18:04:11 yolact.eval]: \u001b[0mComputing validation mAP (this may take a while)...\n",
            "\n",
            "\n",
            "\u001b[32m[12/24 18:04:11 yolact.eval]: \u001b[0mCalculating mAP...\n",
            "\u001b[32m[12/24 18:04:11 yolact.eval]: \u001b[0m\n",
            "       |  all  |  .50  |  .55  |  .60  |  .65  |  .70  |  .75  |  .80  |  .85  |  .90  |  .95  |\n",
            "-------+-------+-------+-------+-------+-------+-------+-------+-------+-------+-------+-------+\n",
            "   box | 14.76 | 18.02 | 18.02 | 18.02 | 18.02 | 18.02 | 18.02 | 18.02 | 13.81 |  7.62 |  0.00 |\n",
            "  mask | 16.14 | 18.02 | 18.02 | 18.02 | 18.02 | 18.02 | 18.02 | 18.02 | 13.81 | 13.81 |  7.62 |\n",
            "-------+-------+-------+-------+-------+-------+-------+-------+-------+-------+-------+-------+\n",
            "\u001b[32m[12/24 18:04:12 yolact.eval]: \u001b[0mComputing validation mAP (this may take a while)...\n",
            "\n",
            "\n",
            "\u001b[32m[12/24 18:04:13 yolact.eval]: \u001b[0mCalculating mAP...\n",
            "\u001b[32m[12/24 18:04:13 yolact.eval]: \u001b[0m\n",
            "       |  all  |  .50  |  .55  |  .60  |  .65  |  .70  |  .75  |  .80  |  .85  |  .90  |  .95  |\n",
            "-------+-------+-------+-------+-------+-------+-------+-------+-------+-------+-------+-------+\n",
            "   box | 14.76 | 18.02 | 18.02 | 18.02 | 18.02 | 18.02 | 18.02 | 18.02 | 13.81 |  7.62 |  0.00 |\n",
            "  mask | 15.72 | 18.02 | 18.02 | 18.02 | 18.02 | 18.02 | 18.02 | 13.81 | 13.81 | 13.81 |  7.62 |\n",
            "-------+-------+-------+-------+-------+-------+-------+-------+-------+-------+-------+-------+\n",
            "\u001b[32m[12/24 18:04:14 yolact.eval]: \u001b[0mComputing validation mAP (this may take a while)...\n",
            "\n",
            "\n",
            "\u001b[32m[12/24 18:04:14 yolact.eval]: \u001b[0mCalculating mAP...\n",
            "\u001b[32m[12/24 18:04:14 yolact.eval]: \u001b[0m\n",
            "       |  all  |  .50  |  .55  |  .60  |  .65  |  .70  |  .75  |  .80  |  .85  |  .90  |  .95  |\n",
            "-------+-------+-------+-------+-------+-------+-------+-------+-------+-------+-------+-------+\n",
            "   box | 15.38 | 18.02 | 18.02 | 18.02 | 18.02 | 18.02 | 18.02 | 18.02 | 13.81 | 13.81 |  0.00 |\n",
            "  mask | 16.34 | 18.02 | 18.02 | 18.02 | 18.02 | 18.02 | 18.02 | 13.81 | 13.81 | 13.81 | 13.81 |\n",
            "-------+-------+-------+-------+-------+-------+-------+-------+-------+-------+-------+-------+\n",
            "\u001b[32m[12/24 18:04:15 yolact.train]: \u001b[0meta: 0:00:21  epoch: 70  iter: 70  B: 0.317  M: 0.749  C: 3.224  S: 1.073  T: 5.363  time: 0.568  data_time: 0.021  lr: 0.000226  max_mem: 5845M\n",
            "\u001b[32m[12/24 18:04:15 yolact.eval]: \u001b[0mComputing validation mAP (this may take a while)...\n",
            "\n",
            "\n",
            "\u001b[32m[12/24 18:04:15 yolact.eval]: \u001b[0mCalculating mAP...\n",
            "\u001b[32m[12/24 18:04:15 yolact.eval]: \u001b[0m\n",
            "       |  all  |  .50  |  .55  |  .60  |  .65  |  .70  |  .75  |  .80  |  .85  |  .90  |  .95  |\n",
            "-------+-------+-------+-------+-------+-------+-------+-------+-------+-------+-------+-------+\n",
            "   box | 16.32 | 19.01 | 19.01 | 19.01 | 19.01 | 19.01 | 19.01 | 19.01 | 15.05 | 15.05 |  0.00 |\n",
            "  mask | 17.43 | 19.01 | 19.01 | 19.01 | 19.01 | 19.01 | 19.01 | 15.05 | 15.05 | 15.05 | 15.05 |\n",
            "-------+-------+-------+-------+-------+-------+-------+-------+-------+-------+-------+-------+\n",
            "\u001b[32m[12/24 18:04:17 yolact.eval]: \u001b[0mComputing validation mAP (this may take a while)...\n",
            "\n",
            "\n",
            "\u001b[32m[12/24 18:04:17 yolact.eval]: \u001b[0mCalculating mAP...\n",
            "\u001b[32m[12/24 18:04:17 yolact.eval]: \u001b[0m\n",
            "       |  all  |  .50  |  .55  |  .60  |  .65  |  .70  |  .75  |  .80  |  .85  |  .90  |  .95  |\n",
            "-------+-------+-------+-------+-------+-------+-------+-------+-------+-------+-------+-------+\n",
            "   box | 14.13 | 15.87 | 15.87 | 15.87 | 15.87 | 15.87 | 15.87 | 15.87 | 15.87 | 12.57 |  1.72 |\n",
            "  mask | 14.55 | 15.87 | 15.87 | 15.87 | 15.87 | 15.87 | 15.87 | 12.57 | 12.57 | 12.57 | 12.57 |\n",
            "-------+-------+-------+-------+-------+-------+-------+-------+-------+-------+-------+-------+\n",
            "\u001b[32m[12/24 18:04:18 yolact.eval]: \u001b[0mComputing validation mAP (this may take a while)...\n",
            "\n",
            "\n",
            "\u001b[32m[12/24 18:04:18 yolact.eval]: \u001b[0mCalculating mAP...\n",
            "\u001b[32m[12/24 18:04:18 yolact.eval]: \u001b[0m\n",
            "       |  all  |  .50  |  .55  |  .60  |  .65  |  .70  |  .75  |  .80  |  .85  |  .90  |  .95  |\n",
            "-------+-------+-------+-------+-------+-------+-------+-------+-------+-------+-------+-------+\n",
            "   box | 16.31 | 18.02 | 18.02 | 18.02 | 18.02 | 18.02 | 18.02 | 18.02 | 18.02 | 13.81 |  5.15 |\n",
            "  mask | 15.72 | 18.02 | 18.02 | 18.02 | 18.02 | 18.02 | 18.02 | 13.81 | 13.81 | 13.81 |  7.62 |\n",
            "-------+-------+-------+-------+-------+-------+-------+-------+-------+-------+-------+-------+\n",
            "\u001b[32m[12/24 18:04:19 yolact.eval]: \u001b[0mComputing validation mAP (this may take a while)...\n",
            "\n",
            "\n",
            "\u001b[32m[12/24 18:04:20 yolact.eval]: \u001b[0mCalculating mAP...\n",
            "\u001b[32m[12/24 18:04:20 yolact.eval]: \u001b[0m\n",
            "       |  all  |  .50  |  .55  |  .60  |  .65  |  .70  |  .75  |  .80  |  .85  |  .90  |  .95  |\n",
            "-------+-------+-------+-------+-------+-------+-------+-------+-------+-------+-------+-------+\n",
            "   box | 14.46 | 17.03 | 17.03 | 17.03 | 17.03 | 17.03 | 17.03 | 17.03 | 12.57 |  7.62 |  5.15 |\n",
            "  mask | 14.75 | 17.03 | 17.03 | 17.03 | 17.03 | 17.03 | 17.03 | 12.57 | 12.57 | 12.57 |  7.62 |\n",
            "-------+-------+-------+-------+-------+-------+-------+-------+-------+-------+-------+-------+\n",
            "\u001b[32m[12/24 18:04:21 yolact.eval]: \u001b[0mComputing validation mAP (this may take a while)...\n",
            "\n",
            "\n",
            "\u001b[32m[12/24 18:04:21 yolact.eval]: \u001b[0mCalculating mAP...\n",
            "\u001b[32m[12/24 18:04:21 yolact.eval]: \u001b[0m\n",
            "       |  all  |  .50  |  .55  |  .60  |  .65  |  .70  |  .75  |  .80  |  .85  |  .90  |  .95  |\n",
            "-------+-------+-------+-------+-------+-------+-------+-------+-------+-------+-------+-------+\n",
            "   box | 14.90 | 17.03 | 17.03 | 17.03 | 17.03 | 17.03 | 17.03 | 17.03 | 17.03 |  7.62 |  5.15 |\n",
            "  mask | 15.20 | 17.03 | 17.03 | 17.03 | 17.03 | 17.03 | 17.03 | 17.03 | 12.57 | 12.57 |  7.62 |\n",
            "-------+-------+-------+-------+-------+-------+-------+-------+-------+-------+-------+-------+\n",
            "\u001b[32m[12/24 18:04:22 yolact.train]: \u001b[0meta: 0:00:14  epoch: 80  iter: 80  B: 0.313  M: 0.733  C: 2.961  S: 0.977  T: 4.984  time: 0.569  data_time: 0.019  lr: 0.000244  max_mem: 5847M\n",
            "\u001b[32m[12/24 18:04:22 yolact.eval]: \u001b[0mComputing validation mAP (this may take a while)...\n",
            "\n",
            "\n",
            "\u001b[32m[12/24 18:04:22 yolact.eval]: \u001b[0mCalculating mAP...\n",
            "\u001b[32m[12/24 18:04:22 yolact.eval]: \u001b[0m\n",
            "       |  all  |  .50  |  .55  |  .60  |  .65  |  .70  |  .75  |  .80  |  .85  |  .90  |  .95  |\n",
            "-------+-------+-------+-------+-------+-------+-------+-------+-------+-------+-------+-------+\n",
            "   box | 15.01 | 17.03 | 17.03 | 17.03 | 17.03 | 17.03 | 17.03 | 17.03 | 17.03 | 12.57 |  1.29 |\n",
            "  mask | 15.20 | 17.03 | 17.03 | 17.03 | 17.03 | 17.03 | 17.03 | 17.03 | 12.57 | 12.57 |  7.62 |\n",
            "-------+-------+-------+-------+-------+-------+-------+-------+-------+-------+-------+-------+\n",
            "\u001b[32m[12/24 18:04:24 yolact.eval]: \u001b[0mComputing validation mAP (this may take a while)...\n",
            "\n",
            "\n",
            "\u001b[32m[12/24 18:04:24 yolact.eval]: \u001b[0mCalculating mAP...\n",
            "\u001b[32m[12/24 18:04:24 yolact.eval]: \u001b[0m\n",
            "       |  all  |  .50  |  .55  |  .60  |  .65  |  .70  |  .75  |  .80  |  .85  |  .90  |  .95  |\n",
            "-------+-------+-------+-------+-------+-------+-------+-------+-------+-------+-------+-------+\n",
            "   box | 15.80 | 18.02 | 18.02 | 18.02 | 18.02 | 18.02 | 18.02 | 18.02 | 18.02 | 13.81 |  0.00 |\n",
            "  mask | 16.14 | 18.02 | 18.02 | 18.02 | 18.02 | 18.02 | 18.02 | 18.02 | 13.81 | 13.81 |  7.62 |\n",
            "-------+-------+-------+-------+-------+-------+-------+-------+-------+-------+-------+-------+\n",
            "\u001b[32m[12/24 18:04:25 yolact.eval]: \u001b[0mComputing validation mAP (this may take a while)...\n",
            "\n",
            "\n",
            "\u001b[32m[12/24 18:04:25 yolact.eval]: \u001b[0mCalculating mAP...\n",
            "\u001b[32m[12/24 18:04:25 yolact.eval]: \u001b[0m\n",
            "       |  all  |  .50  |  .55  |  .60  |  .65  |  .70  |  .75  |  .80  |  .85  |  .90  |  .95  |\n",
            "-------+-------+-------+-------+-------+-------+-------+-------+-------+-------+-------+-------+\n",
            "   box | 14.88 | 17.03 | 17.03 | 17.03 | 17.03 | 17.03 | 17.03 | 17.03 | 17.03 | 12.57 |  0.00 |\n",
            "  mask | 15.20 | 17.03 | 17.03 | 17.03 | 17.03 | 17.03 | 17.03 | 17.03 | 12.57 | 12.57 |  7.62 |\n",
            "-------+-------+-------+-------+-------+-------+-------+-------+-------+-------+-------+-------+\n",
            "\u001b[32m[12/24 18:04:26 yolact.eval]: \u001b[0mComputing validation mAP (this may take a while)...\n",
            "\n",
            "\n",
            "\u001b[32m[12/24 18:04:27 yolact.eval]: \u001b[0mCalculating mAP...\n",
            "\u001b[32m[12/24 18:04:27 yolact.eval]: \u001b[0m\n",
            "       |  all  |  .50  |  .55  |  .60  |  .65  |  .70  |  .75  |  .80  |  .85  |  .90  |  .95  |\n",
            "-------+-------+-------+-------+-------+-------+-------+-------+-------+-------+-------+-------+\n",
            "   box | 14.44 | 17.03 | 17.03 | 17.03 | 17.03 | 17.03 | 17.03 | 17.03 | 12.57 | 12.57 |  0.00 |\n",
            "  mask | 15.20 | 17.03 | 17.03 | 17.03 | 17.03 | 17.03 | 17.03 | 17.03 | 12.57 | 12.57 |  7.62 |\n",
            "-------+-------+-------+-------+-------+-------+-------+-------+-------+-------+-------+-------+\n",
            "\u001b[32m[12/24 18:04:28 yolact.eval]: \u001b[0mComputing validation mAP (this may take a while)...\n",
            "\n",
            "\n",
            "\u001b[32m[12/24 18:04:28 yolact.eval]: \u001b[0mCalculating mAP...\n",
            "\u001b[32m[12/24 18:04:28 yolact.eval]: \u001b[0m\n",
            "       |  all  |  .50  |  .55  |  .60  |  .65  |  .70  |  .75  |  .80  |  .85  |  .90  |  .95  |\n",
            "-------+-------+-------+-------+-------+-------+-------+-------+-------+-------+-------+-------+\n",
            "   box | 14.76 | 18.02 | 18.02 | 18.02 | 18.02 | 18.02 | 18.02 | 18.02 | 13.81 |  7.62 |  0.00 |\n",
            "  mask | 15.72 | 18.02 | 18.02 | 18.02 | 18.02 | 18.02 | 18.02 | 13.81 | 13.81 | 13.81 |  7.62 |\n",
            "-------+-------+-------+-------+-------+-------+-------+-------+-------+-------+-------+-------+\n",
            "\u001b[32m[12/24 18:04:29 yolact.train]: \u001b[0meta: 0:00:07  epoch: 90  iter: 90  B: 0.303  M: 0.715  C: 2.738  S: 0.898  T: 4.653  time: 0.606  data_time: 0.022  lr: 0.000262  max_mem: 5847M\n",
            "\u001b[32m[12/24 18:04:29 yolact.eval]: \u001b[0mComputing validation mAP (this may take a while)...\n",
            "\n",
            "\n",
            "\u001b[32m[12/24 18:04:29 yolact.eval]: \u001b[0mCalculating mAP...\n",
            "\u001b[32m[12/24 18:04:29 yolact.eval]: \u001b[0m\n",
            "       |  all  |  .50  |  .55  |  .60  |  .65  |  .70  |  .75  |  .80  |  .85  |  .90  |  .95  |\n",
            "-------+-------+-------+-------+-------+-------+-------+-------+-------+-------+-------+-------+\n",
            "   box | 15.05 | 18.02 | 18.02 | 18.02 | 18.02 | 18.02 | 18.02 | 18.02 | 18.02 |  5.05 |  1.29 |\n",
            "  mask | 15.46 | 18.02 | 18.02 | 18.02 | 18.02 | 18.02 | 18.02 | 13.81 | 13.81 | 13.81 |  5.05 |\n",
            "-------+-------+-------+-------+-------+-------+-------+-------+-------+-------+-------+-------+\n",
            "\u001b[32m[12/24 18:04:31 yolact.eval]: \u001b[0mComputing validation mAP (this may take a while)...\n",
            "\n",
            "\n",
            "\u001b[32m[12/24 18:04:31 yolact.eval]: \u001b[0mCalculating mAP...\n",
            "\u001b[32m[12/24 18:04:31 yolact.eval]: \u001b[0m\n",
            "       |  all  |  .50  |  .55  |  .60  |  .65  |  .70  |  .75  |  .80  |  .85  |  .90  |  .95  |\n",
            "-------+-------+-------+-------+-------+-------+-------+-------+-------+-------+-------+-------+\n",
            "   box | 16.55 | 19.01 | 19.01 | 19.01 | 19.01 | 19.01 | 19.01 | 19.01 | 19.01 |  6.73 |  6.73 |\n",
            "  mask | 16.59 | 19.01 | 19.01 | 19.01 | 19.01 | 19.01 | 19.01 | 15.05 | 15.05 | 15.05 |  6.73 |\n",
            "-------+-------+-------+-------+-------+-------+-------+-------+-------+-------+-------+-------+\n",
            "\u001b[32m[12/24 18:04:32 yolact.eval]: \u001b[0mComputing validation mAP (this may take a while)...\n",
            "\n",
            "\n",
            "\u001b[32m[12/24 18:04:32 yolact.eval]: \u001b[0mCalculating mAP...\n",
            "\u001b[32m[12/24 18:04:32 yolact.eval]: \u001b[0m\n",
            "       |  all  |  .50  |  .55  |  .60  |  .65  |  .70  |  .75  |  .80  |  .85  |  .90  |  .95  |\n",
            "-------+-------+-------+-------+-------+-------+-------+-------+-------+-------+-------+-------+\n",
            "   box | 16.99 | 19.01 | 19.01 | 19.01 | 19.01 | 19.01 | 19.01 | 19.01 | 15.05 | 15.05 |  6.73 |\n",
            "  mask | 16.20 | 19.01 | 19.01 | 19.01 | 19.01 | 19.01 | 15.05 | 15.05 | 15.05 | 15.05 |  6.73 |\n",
            "-------+-------+-------+-------+-------+-------+-------+-------+-------+-------+-------+-------+\n",
            "\u001b[32m[12/24 18:04:33 yolact.eval]: \u001b[0mComputing validation mAP (this may take a while)...\n",
            "\n",
            "\n",
            "\u001b[32m[12/24 18:04:34 yolact.eval]: \u001b[0mCalculating mAP...\n",
            "\u001b[32m[12/24 18:04:34 yolact.eval]: \u001b[0m\n",
            "       |  all  |  .50  |  .55  |  .60  |  .65  |  .70  |  .75  |  .80  |  .85  |  .90  |  .95  |\n",
            "-------+-------+-------+-------+-------+-------+-------+-------+-------+-------+-------+-------+\n",
            "   box | 16.32 | 19.01 | 19.01 | 19.01 | 19.01 | 19.01 | 19.01 | 19.01 | 15.05 | 15.05 |  0.00 |\n",
            "  mask | 16.20 | 19.01 | 19.01 | 19.01 | 19.01 | 19.01 | 15.05 | 15.05 | 15.05 | 15.05 |  6.73 |\n",
            "-------+-------+-------+-------+-------+-------+-------+-------+-------+-------+-------+-------+\n",
            "\u001b[32m[12/24 18:04:35 yolact.eval]: \u001b[0mComputing validation mAP (this may take a while)...\n",
            "\n",
            "\n",
            "\u001b[32m[12/24 18:04:35 yolact.eval]: \u001b[0mCalculating mAP...\n",
            "\u001b[32m[12/24 18:04:35 yolact.eval]: \u001b[0m\n",
            "       |  all  |  .50  |  .55  |  .60  |  .65  |  .70  |  .75  |  .80  |  .85  |  .90  |  .95  |\n",
            "-------+-------+-------+-------+-------+-------+-------+-------+-------+-------+-------+-------+\n",
            "   box | 17.56 | 19.01 | 19.01 | 19.01 | 19.01 | 19.01 | 19.01 | 19.01 | 19.01 | 15.05 |  8.45 |\n",
            "  mask | 16.37 | 19.01 | 19.01 | 19.01 | 19.01 | 19.01 | 15.05 | 15.05 | 15.05 | 15.05 |  8.45 |\n",
            "-------+-------+-------+-------+-------+-------+-------+-------+-------+-------+-------+-------+\n"
          ]
        }
      ]
    },
    {
      "cell_type": "code",
      "source": [
        "!python3 /content/yolact_edge/train.py --help\n"
      ],
      "metadata": {
        "id": "8vrfVHHkYUNx"
      },
      "execution_count": null,
      "outputs": []
    },
    {
      "cell_type": "code",
      "source": [
        "# Trains using the base config with a batch size of 8 (the default).\n",
        "# !python /content/yolact/train.py --config=yolact_base_config\n",
        "\n",
        "# Trains yolact_base_config with a batch_size of 5. For the 550px models, 1 batch takes up around 1.5 gigs of VRAM, so specify accordingly.\n",
        "# !python /content/yolact/train.py --config=yolact_base_config --batch_size=5\n",
        "\n",
        "# Resume training yolact_base with a specific weight file and start from the iteration specified in the weight file's name.\n",
        "# !python /content/yolact/train.py --config=yolact_base_config --resume=weights/yolact_base_10_32100.pth --start_iter=-1\n",
        "\n",
        "# Use the help option to see a description of all available command line arguments\n",
        "# !python /content/yolact/train.py --help"
      ],
      "metadata": {
        "id": "rLD_qpONYUNx"
      },
      "execution_count": null,
      "outputs": []
    },
    {
      "cell_type": "code",
      "source": [
        "# Pre-train the image based model\n",
        "# !python train.py --config=yolact_edge_youtubevis_config\n",
        "\n",
        "# Train the flow (warping) module\n",
        "# !python train.py --config=yolact_edge_vid_trainflow_config --resume=./weights/yolact_edge_youtubevis_847_50000.pth\n",
        "\n",
        "# Fine tune the network jointly\n",
        "# !python train.py --config=yolact_edge_vid_config --resume=./weights/yolact_edge_vid_trainflow_144_100000.pth\n"
      ],
      "metadata": {
        "id": "fQKcblRKYUNx"
      },
      "execution_count": null,
      "outputs": []
    },
    {
      "cell_type": "markdown",
      "source": [
        "##TESTING THE MODEL"
      ],
      "metadata": {
        "id": "FHUVi-9LYUNx"
      }
    },
    {
      "cell_type": "code",
      "metadata": {
        "colab": {
          "base_uri": "https://localhost:8080/"
        },
        "outputId": "0eeb79ce-b4c5-4e27-83f2-c5a5bf50dec6",
        "id": "QuclxEVPYUNx"
      },
      "source": [
        "!python /content/yolact_edge/eval.py --config=yolact_edge_mobilenetv2_config --disable_tensorrt --trained_model=/content/yolact_edge/weights/yolact_edge_mobilenetv2_99_100.pth --score_threshold=0.80 --top_k=15 --image=/content/images.jpg:/content/output.jpg \n",
        "\n",
        "# Display qualitative results on the specified image: --image=my_image.png \n",
        "# Process a whole folder of images: --images=path/to/input/folder:path/to/output/folder \n",
        "# Process an image and save it to another file: --image=input_image.png:output_image.png \n",
        "\n",
        "# Display a video in real-time. \"--video_multiframe\" will process that many frames at once for improved performance.\n",
        "# If you want, use \"--display_fps\" to draw the FPS directly on the frame.\n",
        "# --video_multiframe=4 --video=my_video.mp4 \n",
        "\n",
        "# Display a webcam feed in real-time. If you have multiple webcams pass the index of the webcam you want instead of 0.\n",
        "# --video_multiframe=4 --video=0 \n",
        "\n",
        "# Process a video and save it to another file. This uses the same pipeline as the ones above now, so it's fast!\n",
        "# --video_multiframe=4 --video=input_video.mp4:output_video.mp4 \n"
      ],
      "execution_count": null,
      "outputs": [
        {
          "output_type": "stream",
          "name": "stdout",
          "text": [
            "\u001b[32m[12/24 18:23:07 yolact.eval]: \u001b[0mLoading model...\n",
            "\u001b[32m[12/24 18:23:09 yolact.eval]: \u001b[0mModel loaded.\n"
          ]
        }
      ]
    },
    {
      "cell_type": "markdown",
      "source": [
        "##DISPLAYING THE RESULTS \n"
      ],
      "metadata": {
        "id": "WIHykDTyYUNy"
      }
    },
    {
      "cell_type": "code",
      "metadata": {
        "id": "NBwGeCJbYUNy"
      },
      "source": [
        "import cv2\n",
        "import numpy as np\n",
        "from matplotlib import pyplot as plt\n",
        "from pathlib import Path\n",
        "\n",
        "output_images = Path('output_images')\n",
        "\n",
        "def show_image(img_path):\n",
        "  img = cv2.imread(img_path)\n",
        "  img_cvt=cv2.cvtColor(img, cv2.COLOR_BGR2RGB)\n",
        "  plt.figure(figsize=(16,16))\n",
        "  plt.imshow(img_cvt)\n",
        "  plt.show()\n",
        "\n",
        "# Iterate through all of the output images and display them\n",
        "for img_path in output_images.iterdir():\n",
        "  print(img_path)\n",
        "  show_image(str(img_path))"
      ],
      "execution_count": null,
      "outputs": []
    },
    {
      "cell_type": "markdown",
      "source": [
        "##MOVING MODEL WEIGHTS FROM COLAB TO DRIVE"
      ],
      "metadata": {
        "id": "_oj2tbASYUNy"
      }
    },
    {
      "cell_type": "code",
      "source": [
        "# Create the Folder Structure in Drive to store weights\n",
        "!mkdir /content/drive/MyDrive/Yolact\n",
        "!mkdir /content/drive/MyDrive/Yolact/Balls_Weigths\n",
        "\n",
        "# Provide the drive path and the colab_path\n",
        "colab_path = '/content/weights/yolact_base_999_1000.pth'\n",
        "drive_path = '/content/drive/MyDrive/Yolact/Balls_Weigths/yolact_base_999_1000'\n",
        "\n",
        "# Move the weights from drive to colab\n",
        "!cp \"{colab_path}\" \"{drive_path}\""
      ],
      "metadata": {
        "id": "2J6T7UmiYUNy"
      },
      "execution_count": null,
      "outputs": []
    },
    {
      "cell_type": "code",
      "source": [
        "balls_dataset = dataset_base.copy({\n",
        "   'name': 'balls_dataset',\n",
        "\n",
        "   'train_images': '/content/balls/train/images',\n",
        "   'train_info':   '/content/balls/train/annotations/train.json',\n",
        "\n",
        "   'valid_images': '/content/balls/val/images',\n",
        "   'valid_info':   '/content/balls/val/annotations/val.json',\n",
        "\n",
        "   'has_gt': True,\n",
        "   'class_names': ('Balls')\n",
        "})"
      ],
      "metadata": {
        "id": "q7vefH6SYUNy"
      },
      "execution_count": null,
      "outputs": []
    }
  ]
}